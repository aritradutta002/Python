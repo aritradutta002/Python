{
 "cells": [
  {
   "cell_type": "code",
   "execution_count": 4,
   "metadata": {},
   "outputs": [
    {
     "name": "stdout",
     "output_type": "stream",
     "text": [
      "Enter a number:90\n",
      "Even\n"
     ]
    }
   ],
   "source": [
    "x = int(input('Enter a number:'))\n",
    "if x== 0:\n",
    "    print ('zero')\n",
    "elif x%2 == 0:\n",
    "    print('Even')\n",
    "else:\n",
    "    print('odd')"
   ]
  },
  {
   "cell_type": "code",
   "execution_count": 7,
   "metadata": {},
   "outputs": [
    {
     "name": "stdout",
     "output_type": "stream",
     "text": [
      "[23, 'Even', 56, 98]\n"
     ]
    }
   ],
   "source": [
    "l1 = [23,534,56,98]\n",
    "if len(l1)%2 == 0:\n",
    "    l1[1] = 'Even'\n",
    "else:\n",
    "    l1[2] = 'Odd'\n",
    "print (l1)"
   ]
  },
  {
   "cell_type": "code",
   "execution_count": 20,
   "metadata": {},
   "outputs": [
    {
     "ename": "SyntaxError",
     "evalue": "invalid syntax (<ipython-input-20-0265a263847c>, line 6)",
     "output_type": "error",
     "traceback": [
      "\u001b[1;36m  File \u001b[1;32m\"<ipython-input-20-0265a263847c>\"\u001b[1;36m, line \u001b[1;32m6\u001b[0m\n\u001b[1;33m    if 'Mary','Nora' not in dict1.keys():\u001b[0m\n\u001b[1;37m             ^\u001b[0m\n\u001b[1;31mSyntaxError\u001b[0m\u001b[1;31m:\u001b[0m invalid syntax\n"
     ]
    }
   ],
   "source": [
    "dict1 = {'a':'b','c':'d'}\n",
    "if 'Mary' in dict1.keys():\n",
    "    dict1['Mary'] = dict1['Mary'].upper()\n",
    "if 'Dora' in dict1.keys():\n",
    "    dict1['Dora'] = dict1['Dora'].lower()\n",
    "if 'Mary','Nora' not in dict1.keys() and 'Nora' not in dict1.keys():\n",
    "    dict1['Mary'] = 'Nora'\n",
    "dict1"
   ]
  },
  {
   "cell_type": "code",
   "execution_count": null,
   "metadata": {},
   "outputs": [],
   "source": []
  }
 ],
 "metadata": {
  "kernelspec": {
   "display_name": "Python 3",
   "language": "python",
   "name": "python3"
  },
  "language_info": {
   "codemirror_mode": {
    "name": "ipython",
    "version": 3
   },
   "file_extension": ".py",
   "mimetype": "text/x-python",
   "name": "python",
   "nbconvert_exporter": "python",
   "pygments_lexer": "ipython3",
   "version": "3.7.4"
  }
 },
 "nbformat": 4,
 "nbformat_minor": 2
}
