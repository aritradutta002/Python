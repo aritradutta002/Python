{
 "cells": [
  {
   "cell_type": "code",
   "execution_count": 2,
   "metadata": {},
   "outputs": [
    {
     "name": "stdout",
     "output_type": "stream",
     "text": [
      "India\n",
      "Canada\n",
      "England\n",
      "Scotland\n",
      "US\n",
      "Norway\n"
     ]
    }
   ],
   "source": [
    "my_list = ['India', 'Canada', 'England', 'Scotland', 'US', 'Norway']\n",
    "for i in my_list:\n",
    "    print(i)"
   ]
  },
  {
   "cell_type": "code",
   "execution_count": 7,
   "metadata": {},
   "outputs": [
    {
     "name": "stdout",
     "output_type": "stream",
     "text": [
      "10\n",
      "9\n",
      "8\n",
      "7\n",
      "6\n",
      "5\n",
      "4\n",
      "3\n",
      "2\n",
      "1\n"
     ]
    }
   ],
   "source": [
    "for i in range(10,0,-1):\n",
    "    print(i)"
   ]
  },
  {
   "cell_type": "code",
   "execution_count": 8,
   "metadata": {},
   "outputs": [
    {
     "name": "stdout",
     "output_type": "stream",
     "text": [
      "1\n",
      "101\n",
      "201\n",
      "301\n",
      "401\n",
      "501\n",
      "601\n",
      "701\n",
      "801\n",
      "901\n"
     ]
    }
   ],
   "source": [
    "for i in range (1,1001,100):\n",
    "    print(i)"
   ]
  },
  {
   "cell_type": "code",
   "execution_count": 10,
   "metadata": {},
   "outputs": [
    {
     "name": "stdout",
     "output_type": "stream",
     "text": [
      "['India', 'Canada', 'England', 'Scotland', 'US', 'Norway']\n",
      "[1, 2, 3, 4, 5, 6]\n",
      "['Aritra', 1, 2]\n"
     ]
    }
   ],
   "source": [
    "list1 = [['India','Canada', 'England', 'Scotland', 'US', 'Norway'],[1,2,3,4,5,6],['Aritra',1,2]]\n",
    "for i in list1:\n",
    "    print(i)"
   ]
  },
  {
   "cell_type": "code",
   "execution_count": 11,
   "metadata": {},
   "outputs": [
    {
     "name": "stdout",
     "output_type": "stream",
     "text": [
      "101\n",
      "Textile\n",
      "01-01-1990\n"
     ]
    }
   ],
   "source": [
    "my_dict = {'Employee_id' : 101, 'Emp_dept': 'Textile', 'Emp_dob' : '01-01-1990'}\n",
    "for v in my_dict.values():\n",
    "    print(v)"
   ]
  },
  {
   "cell_type": "code",
   "execution_count": 12,
   "metadata": {},
   "outputs": [
    {
     "name": "stdout",
     "output_type": "stream",
     "text": [
      "Employee_id\n",
      "Emp_dept\n",
      "Emp_dob\n"
     ]
    }
   ],
   "source": [
    "my_dict = {'Employee_id' : 101, 'Emp_dept': 'Textile', 'Emp_dob' : '01-01-1990'}\n",
    "for k in my_dict.keys():\n",
    "    print(k)"
   ]
  },
  {
   "cell_type": "code",
   "execution_count": 13,
   "metadata": {},
   "outputs": [
    {
     "name": "stdout",
     "output_type": "stream",
     "text": [
      "This Product_1 is priced 1560\n",
      "This Product_2 is priced 1236\n",
      "This Product_3 is priced 1587\n"
     ]
    }
   ],
   "source": [
    "my_dict1 = {'Product_1' : 1560, 'Product_2': 1236, 'Product_3' : 1587}\n",
    "for k,v in my_dict1.items():\n",
    "    print(f'This {k} is priced {v}')"
   ]
  },
  {
   "cell_type": "code",
   "execution_count": 14,
   "metadata": {},
   "outputs": [
    {
     "name": "stdout",
     "output_type": "stream",
     "text": [
      "Product_1 - 1560\n",
      "Product_2 - 1236\n",
      "Product_3 - 1587\n"
     ]
    }
   ],
   "source": [
    "my_dict1 = {'Product_1' : 1560, 'Product_2': 1236, 'Product_3' : 1587}\n",
    "for k,v in my_dict1.items():\n",
    "    print(f'{k} - {v}')"
   ]
  },
  {
   "cell_type": "code",
   "execution_count": 23,
   "metadata": {},
   "outputs": [
    {
     "name": "stdout",
     "output_type": "stream",
     "text": [
      "This %f is priced 1092.0\n",
      "This %f is priced 865.1999999999999\n",
      "This %f is priced 1110.8999999999999\n"
     ]
    }
   ],
   "source": [
    "my_dict1 = {'Product_1' : 1560, 'Product_2': 1236, 'Product_3' : 1587}\n",
    "for k in my_dict1.keys():    \n",
    "    my_dict1[k] *= 0.7\n",
    "    print(f'This %f is priced {my_dict1[k]}')"
   ]
  },
  {
   "cell_type": "code",
   "execution_count": null,
   "metadata": {},
   "outputs": [],
   "source": []
  }
 ],
 "metadata": {
  "kernelspec": {
   "display_name": "Python 3",
   "language": "python",
   "name": "python3"
  },
  "language_info": {
   "codemirror_mode": {
    "name": "ipython",
    "version": 3
   },
   "file_extension": ".py",
   "mimetype": "text/x-python",
   "name": "python",
   "nbconvert_exporter": "python",
   "pygments_lexer": "ipython3",
   "version": "3.7.4"
  }
 },
 "nbformat": 4,
 "nbformat_minor": 2
}
