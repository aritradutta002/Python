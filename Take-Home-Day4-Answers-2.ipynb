{
 "cells": [
  {
   "cell_type": "markdown",
   "metadata": {},
   "source": [
    "#### 1.Write a Python function check the 3 is prime or not?"
   ]
  },
  {
   "cell_type": "code",
   "execution_count": 2,
   "metadata": {},
   "outputs": [
    {
     "name": "stdout",
     "output_type": "stream",
     "text": [
      "True\n"
     ]
    }
   ],
   "source": [
    "def is_prime(n):\n",
    "    flag = False\n",
    "    if n == 2:\n",
    "        flag = True\n",
    "    for i in range(2,n+1):\n",
    "        if n % i != 0:\n",
    "            flag = True\n",
    "    return flag\n",
    "print(is_prime(3))"
   ]
  },
  {
   "cell_type": "markdown",
   "metadata": {},
   "source": [
    "#### 2.Write a Python function string = ASDBDSA is palindrome or not?"
   ]
  },
  {
   "cell_type": "code",
   "execution_count": 4,
   "metadata": {},
   "outputs": [
    {
     "name": "stdout",
     "output_type": "stream",
     "text": [
      "ASDBDSA is Palindrome\n"
     ]
    }
   ],
   "source": [
    "string = 'ASDBDSA'\n",
    "if string == string[::-1]:\n",
    "    print(f'{string} is Palindrome')\n",
    "else:\n",
    "    print(f'{string} is not Palindrome')"
   ]
  },
  {
   "cell_type": "markdown",
   "metadata": {},
   "source": [
    "#### 3. Write a Python function Print 7 Pascal's triangle."
   ]
  },
  {
   "cell_type": "code",
   "execution_count": 14,
   "metadata": {},
   "outputs": [
    {
     "name": "stdout",
     "output_type": "stream",
     "text": [
      "Enter the number: 7\n",
      "                    1 \n",
      "                  1      1 \n",
      "                1      2      1 \n",
      "              1      3      3      1 \n",
      "            1      4      6      4      1 \n",
      "          1      5     10     10      5      1 \n",
      "        1      6     15     20     15      6      1 \n"
     ]
    }
   ],
   "source": [
    "def pascals_triangle(n):\n",
    "    a = [] #an empty list\n",
    "    for i in range(n):\n",
    "        a.append([])\n",
    "        a[i].append(1)\n",
    "        for j in range(1, i):\n",
    "            a[i].append(a[i - 1][j - 1] + a[i - 1][j])\n",
    "        if(n != 0):\n",
    "            a[i].append(1)\n",
    "    for i in range(n):\n",
    "        print(\"  \" * (n - i), end = \" \")\n",
    "        for j in range(0, i + 1):\n",
    "            print('{0:6}'.format(a[i][j]), end = \" \")\n",
    "        print()\n",
    "n = int(input(\"Enter the number: \"))\n",
    "pascals_triangle(n)"
   ]
  },
  {
   "cell_type": "markdown",
   "metadata": {},
   "source": [
    "#### 4. Write a Python function Print given range (1,10) print i**2?"
   ]
  },
  {
   "cell_type": "code",
   "execution_count": 17,
   "metadata": {},
   "outputs": [
    {
     "name": "stdout",
     "output_type": "stream",
     "text": [
      "1\n",
      "4\n",
      "9\n",
      "16\n",
      "25\n",
      "36\n",
      "49\n",
      "64\n",
      "81\n"
     ]
    }
   ],
   "source": [
    "def fun(l,u):\n",
    "    for i in range(l,u):\n",
    "        print(i**2)\n",
    "fun(1,10)"
   ]
  },
  {
   "cell_type": "markdown",
   "metadata": {},
   "source": [
    "#### 5.Write a Python function to calculate the harmonic for number (4,9)"
   ]
  },
  {
   "cell_type": "code",
   "execution_count": 20,
   "metadata": {},
   "outputs": [
    {
     "name": "stdout",
     "output_type": "stream",
     "text": [
      "0.21\n"
     ]
    }
   ],
   "source": [
    "def hp(n,d):\n",
    "    sum1 = 0\n",
    "    for i in range(1,n+1):\n",
    "        sum1 += 1/(i+i*d)\n",
    "    return sum1\n",
    "print(round(hp(4,9),2))"
   ]
  },
  {
   "cell_type": "markdown",
   "metadata": {},
   "source": [
    "#### 6.Write a Python function to calculate the geometric for number (4,9)"
   ]
  },
  {
   "cell_type": "code",
   "execution_count": 23,
   "metadata": {},
   "outputs": [
    {
     "name": "stdout",
     "output_type": "stream",
     "text": [
      "26244 "
     ]
    }
   ],
   "source": [
    "def printGP(a, r, n):  \n",
    "    for i in range(0, n):  \n",
    "        curr_term = a * pow(r, i) \n",
    "    print(curr_term, end =\" \")\n",
    "printGP(4,9,5)"
   ]
  },
  {
   "cell_type": "markdown",
   "metadata": {},
   "source": [
    "#### Types of arguments\n",
    "\n",
    "\n",
    "    1. Required arguments\n",
    "    2. Keyword arguments\n",
    "    3. Default arguments\n",
    "    4. Variable-length arguments"
   ]
  },
  {
   "cell_type": "code",
   "execution_count": null,
   "metadata": {},
   "outputs": [],
   "source": []
  },
  {
   "cell_type": "markdown",
   "metadata": {},
   "source": [
    "#### 1. Required arguments: (the function calculate returns the sum of two arguments a and b )"
   ]
  },
  {
   "cell_type": "code",
   "execution_count": 18,
   "metadata": {},
   "outputs": [
    {
     "name": "stdout",
     "output_type": "stream",
     "text": [
      "30\n"
     ]
    }
   ],
   "source": [
    "def summation(a,b):\n",
    "    return a+b\n",
    "print(summation(10,20))"
   ]
  },
  {
   "cell_type": "markdown",
   "metadata": {},
   "source": [
    "#### 2.Keyword arguments:(The function simple_interest(p, t, r) is called with the keyword arguments)"
   ]
  },
  {
   "cell_type": "code",
   "execution_count": 24,
   "metadata": {},
   "outputs": [
    {
     "name": "stdout",
     "output_type": "stream",
     "text": [
      "Hello\n",
      "Welcome\n",
      "to\n",
      "GreatLeraning\n"
     ]
    }
   ],
   "source": [
    "def myFun(*argv):  \n",
    "    for arg in argv:  \n",
    "        print (arg)  \n",
    "myFun('Hello', 'Welcome', 'to', 'GreatLeraning') "
   ]
  },
  {
   "cell_type": "markdown",
   "metadata": {},
   "source": [
    "#### 3. Default arguments"
   ]
  },
  {
   "cell_type": "code",
   "execution_count": 25,
   "metadata": {},
   "outputs": [
    {
     "name": "stdout",
     "output_type": "stream",
     "text": [
      "John Mark studies in Fifth Standard\n",
      "John Gates studies in Seventh Standard\n",
      "John Gates studies in Fifth Standard\n",
      "John Seventh studies in Fifth Standard\n"
     ]
    }
   ],
   "source": [
    "def student(firstname, lastname ='Mark', standard ='Fifth'): \n",
    "     print(firstname, lastname, 'studies in', standard, 'Standard')\n",
    "student('John')\n",
    "student('John', 'Gates', 'Seventh')\n",
    "student('John', 'Gates')                   \n",
    "student('John', 'Seventh')"
   ]
  },
  {
   "cell_type": "markdown",
   "metadata": {},
   "source": [
    "## lambda function"
   ]
  },
  {
   "cell_type": "markdown",
   "metadata": {},
   "source": [
    "###### 1. Write a map function to find if the given list = [15, 47, 122, 48, 54, 562, 80, 923, 173, 461]  is divisible by 16 output is boolean ?"
   ]
  },
  {
   "cell_type": "code",
   "execution_count": 26,
   "metadata": {},
   "outputs": [
    {
     "name": "stdout",
     "output_type": "stream",
     "text": [
      "[False, False, False, True, False, False, True, False, False, False]\n"
     ]
    }
   ],
   "source": [
    "list1 = [15, 47, 122, 48, 54, 562, 80, 923, 173, 461]\n",
    "print(list(map(lambda x : x % 16 == 0,list1)))"
   ]
  },
  {
   "cell_type": "markdown",
   "metadata": {},
   "source": [
    "###### 2. Use the map() function to calculate the cube of all numbers in the given list: lis1 = [2,4,5,6677,353,464]\n"
   ]
  },
  {
   "cell_type": "code",
   "execution_count": 27,
   "metadata": {},
   "outputs": [
    {
     "name": "stdout",
     "output_type": "stream",
     "text": [
      "[8, 64, 125, 297676210733, 43986977, 99897344]\n"
     ]
    }
   ],
   "source": [
    "lis1 = [2,4,5,6677,353,464]\n",
    "print(list(map(lambda x : x**3,lis1)))"
   ]
  }
 ],
 "metadata": {
  "kernelspec": {
   "display_name": "Python 3",
   "language": "python",
   "name": "python3"
  },
  "language_info": {
   "codemirror_mode": {
    "name": "ipython",
    "version": 3
   },
   "file_extension": ".py",
   "mimetype": "text/x-python",
   "name": "python",
   "nbconvert_exporter": "python",
   "pygments_lexer": "ipython3",
   "version": "3.7.4"
  }
 },
 "nbformat": 4,
 "nbformat_minor": 2
}
