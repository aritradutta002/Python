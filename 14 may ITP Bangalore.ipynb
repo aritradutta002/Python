{
 "cells": [
  {
   "cell_type": "code",
   "execution_count": 2,
   "metadata": {},
   "outputs": [],
   "source": [
    "# mode control flow statements,list comprehensions, for loops"
   ]
  },
  {
   "cell_type": "raw",
   "metadata": {},
   "source": [
    "if condition :\n",
    "    Body\n",
    "elif condition:\n",
    "    Body\n",
    "else:\n",
    "    Body"
   ]
  },
  {
   "cell_type": "code",
   "execution_count": 7,
   "metadata": {},
   "outputs": [
    {
     "name": "stdout",
     "output_type": "stream",
     "text": [
      "What your location in india?MUMBAI\n",
      "You are at a red zone\n"
     ]
    }
   ],
   "source": [
    "location=input(\"What your location in india?\")\n",
    "if location=='mumbai' or location=='MUMBAI' or location=='Mumbai':\n",
    "    print(\"You are at a red zone\")\n",
    "elif location=='bangalore':\n",
    "    print(\"youre safe\")\n",
    "else:\n",
    "    print(\"invalid input\")"
   ]
  },
  {
   "cell_type": "code",
   "execution_count": 10,
   "metadata": {},
   "outputs": [],
   "source": [
    "# code to detect vowels\n"
   ]
  },
  {
   "cell_type": "code",
   "execution_count": 12,
   "metadata": {},
   "outputs": [
    {
     "name": "stdout",
     "output_type": "stream",
     "text": [
      "Please enter an english letterw\n",
      "invalid\n"
     ]
    }
   ],
   "source": [
    "vowels=['a','e','i','o','u','A','E','I','O','U'] # requirement of a loop\n",
    "alpha=input(\"Please enter an english letter\")\n",
    "if alpha==vowels:\n",
    "    print(\"its a vowel\")\n",
    "else:\n",
    "    print(\"invalid\")\n"
   ]
  },
  {
   "cell_type": "code",
   "execution_count": 13,
   "metadata": {},
   "outputs": [],
   "source": [
    "# code to detect even and odd numbers\n"
   ]
  },
  {
   "cell_type": "code",
   "execution_count": 19,
   "metadata": {},
   "outputs": [
    {
     "name": "stdout",
     "output_type": "stream",
     "text": [
      "Enter a number97\n",
      "its odd\n"
     ]
    }
   ],
   "source": [
    "number=float(input(\"Enter a number\"))\n",
    "if number==0:\n",
    "    print(\"its neither even nor odd\")\n",
    "elif number%2==0:\n",
    "    print(\"its even\")\n",
    "else:\n",
    "    print(\"its odd\")"
   ]
  },
  {
   "cell_type": "code",
   "execution_count": 20,
   "metadata": {},
   "outputs": [],
   "source": [
    "# nested if"
   ]
  },
  {
   "cell_type": "code",
   "execution_count": 21,
   "metadata": {},
   "outputs": [
    {
     "name": "stdout",
     "output_type": "stream",
     "text": [
      "Enter your state namedelhi\n",
      "Eneter the pincode of your native town002\n",
      "youre at AIIMS delhi\n"
     ]
    }
   ],
   "source": [
    "state=input(\"Enter your state name\")\n",
    "pincode=input(\"Eneter the pincode of your native town\")\n",
    "if state=='delhi':\n",
    "    if pincode=='001':\n",
    "        print(\"you are at IIT Delhi\")\n",
    "    elif pincode=='002':\n",
    "        print(\"youre at AIIMS delhi\")\n",
    "    else:\n",
    "        print(\"invalid input\")\n",
    "        \n",
    "elif state=='Bangalore':\n",
    "    if pincode=='560037':\n",
    "        print(\"Youre at Brookfield\")\n",
    "    else:\n",
    "        print(\"pincode invalid\")\n",
    "else:\n",
    "    print(\"not available in database\")"
   ]
  },
  {
   "cell_type": "raw",
   "metadata": {},
   "source": [
    "for iterator in iterable:\n",
    "    Body"
   ]
  },
  {
   "cell_type": "code",
   "execution_count": 26,
   "metadata": {},
   "outputs": [
    {
     "name": "stdout",
     "output_type": "stream",
     "text": [
      "123\n",
      "456\n"
     ]
    }
   ],
   "source": [
    "for numbers in ['123','456']:\n",
    "    print(numbers)"
   ]
  },
  {
   "cell_type": "code",
   "execution_count": 31,
   "metadata": {},
   "outputs": [],
   "source": [
    "d={'a':'apple','g':'gwalior'}"
   ]
  },
  {
   "cell_type": "code",
   "execution_count": 35,
   "metadata": {},
   "outputs": [
    {
     "name": "stdout",
     "output_type": "stream",
     "text": [
      "a apple\n",
      "g gwalior\n"
     ]
    }
   ],
   "source": [
    "for keys,values in d.items():\n",
    "    print(keys,values)"
   ]
  },
  {
   "cell_type": "code",
   "execution_count": null,
   "metadata": {},
   "outputs": [],
   "source": [
    "vowels=['a','e','i','o','u','A','E','I','O','U'] \n",
    "\n",
    "alpha=input(\"Please enter an english letter \")\n",
    "\n",
    "for data in vowels:\n",
    "    \n",
    "    if alpha==data:\n",
    "        \n",
    "        print(\"its a vowel\")\n",
    "    else:\n",
    "        pass# python interpreter to remain idle\n"
   ]
  },
  {
   "cell_type": "code",
   "execution_count": 1,
   "metadata": {},
   "outputs": [
    {
     "name": "stdout",
     "output_type": "stream",
     "text": [
      "0\n",
      "1\n",
      "2\n",
      "3\n",
      "4\n",
      "5\n",
      "6\n",
      "7\n",
      "8\n",
      "9\n"
     ]
    }
   ],
   "source": [
    "for numbers in range(0,10):\n",
    "    print(numbers)"
   ]
  },
  {
   "cell_type": "code",
   "execution_count": 2,
   "metadata": {},
   "outputs": [
    {
     "name": "stdout",
     "output_type": "stream",
     "text": [
      "0\n",
      "2\n",
      "4\n",
      "6\n",
      "8\n",
      "10\n",
      "12\n",
      "14\n",
      "16\n",
      "18\n",
      "20\n"
     ]
    }
   ],
   "source": [
    "for numbers in range(0,21,2):\n",
    "    print(numbers)\n",
    "    "
   ]
  },
  {
   "cell_type": "code",
   "execution_count": 4,
   "metadata": {},
   "outputs": [
    {
     "name": "stdout",
     "output_type": "stream",
     "text": [
      "0\n",
      "2\n",
      "4\n",
      "6\n",
      "8\n",
      "10\n",
      "12\n",
      "14\n",
      "16\n",
      "18\n",
      "20\n"
     ]
    }
   ],
   "source": [
    "for numbers in range(0,21):\n",
    "    if numbers%2==0:\n",
    "        print(numbers)\n",
    "        "
   ]
  },
  {
   "cell_type": "code",
   "execution_count": 8,
   "metadata": {},
   "outputs": [
    {
     "name": "stdout",
     "output_type": "stream",
     "text": [
      "python\n"
     ]
    }
   ],
   "source": [
    "for words in ['python','car','batches']:\n",
    "    if len(words)%2==0:\n",
    "        print(words)"
   ]
  },
  {
   "cell_type": "code",
   "execution_count": 45,
   "metadata": {},
   "outputs": [
    {
     "ename": "TypeError",
     "evalue": "unsupported operand type(s) for +: 'int' and 'str'",
     "output_type": "error",
     "traceback": [
      "\u001b[1;31m---------------------------------------------------------------------------\u001b[0m",
      "\u001b[1;31mTypeError\u001b[0m                                 Traceback (most recent call last)",
      "\u001b[1;32m<ipython-input-45-69523f1d25c9>\u001b[0m in \u001b[0;36m<module>\u001b[1;34m\u001b[0m\n\u001b[0;32m      1\u001b[0m \u001b[1;32mfor\u001b[0m \u001b[0mnumbers\u001b[0m \u001b[1;32min\u001b[0m \u001b[1;33m[\u001b[0m\u001b[1;34m'1'\u001b[0m\u001b[1;33m,\u001b[0m\u001b[1;34m'2'\u001b[0m\u001b[1;33m,\u001b[0m\u001b[1;34m'3'\u001b[0m\u001b[1;33m,\u001b[0m\u001b[1;34m'4'\u001b[0m\u001b[1;33m,\u001b[0m\u001b[1;34m'5'\u001b[0m\u001b[1;33m,\u001b[0m\u001b[1;34m'6'\u001b[0m\u001b[1;33m,\u001b[0m\u001b[1;34m'7'\u001b[0m\u001b[1;33m,\u001b[0m\u001b[1;34m'8'\u001b[0m\u001b[1;33m,\u001b[0m\u001b[1;34m'9'\u001b[0m\u001b[1;33m]\u001b[0m\u001b[1;33m:\u001b[0m \u001b[1;31m# int object is not iterable\u001b[0m\u001b[1;33m\u001b[0m\u001b[1;33m\u001b[0m\u001b[0m\n\u001b[1;32m----> 2\u001b[1;33m     \u001b[0mprint\u001b[0m\u001b[1;33m(\u001b[0m\u001b[0msum\u001b[0m\u001b[1;33m(\u001b[0m\u001b[0mnumbers\u001b[0m\u001b[1;33m)\u001b[0m\u001b[1;33m)\u001b[0m\u001b[1;33m\u001b[0m\u001b[1;33m\u001b[0m\u001b[0m\n\u001b[0m",
      "\u001b[1;31mTypeError\u001b[0m: unsupported operand type(s) for +: 'int' and 'str'"
     ]
    }
   ],
   "source": [
    "for numbers in ['1','2','3','4','5','6','7','8','9']: # int object is not iterable\n",
    "    print(sum(numbers))"
   ]
  },
  {
   "cell_type": "code",
   "execution_count": 12,
   "metadata": {},
   "outputs": [
    {
     "data": {
      "text/plain": [
       "45"
      ]
     },
     "execution_count": 12,
     "metadata": {},
     "output_type": "execute_result"
    }
   ],
   "source": [
    "sum([1,2,3,4,5,6,7,8,9])\n"
   ]
  },
  {
   "cell_type": "code",
   "execution_count": 13,
   "metadata": {},
   "outputs": [
    {
     "data": {
      "text/plain": [
       "45"
      ]
     },
     "execution_count": 13,
     "metadata": {},
     "output_type": "execute_result"
    }
   ],
   "source": [
    "sum(range(1,10))"
   ]
  },
  {
   "cell_type": "code",
   "execution_count": 14,
   "metadata": {},
   "outputs": [],
   "source": [
    "d={'country':'india','active cases':78000,'recovered':25000,'migrated':1}"
   ]
  },
  {
   "cell_type": "code",
   "execution_count": 15,
   "metadata": {},
   "outputs": [
    {
     "name": "stdout",
     "output_type": "stream",
     "text": [
      "country\n",
      "active cases\n",
      "recovered\n",
      "migrated\n"
     ]
    }
   ],
   "source": [
    "for data in d:\n",
    "    print(data)"
   ]
  },
  {
   "cell_type": "code",
   "execution_count": 16,
   "metadata": {},
   "outputs": [
    {
     "name": "stdout",
     "output_type": "stream",
     "text": [
      "country\n",
      "active cases\n",
      "recovered\n",
      "migrated\n"
     ]
    }
   ],
   "source": [
    "for keys in d.keys():\n",
    "    print(keys)"
   ]
  },
  {
   "cell_type": "code",
   "execution_count": 17,
   "metadata": {},
   "outputs": [
    {
     "name": "stdout",
     "output_type": "stream",
     "text": [
      "india\n",
      "78000\n",
      "25000\n",
      "1\n"
     ]
    }
   ],
   "source": [
    "for values in d.values():\n",
    "    print(values)"
   ]
  },
  {
   "cell_type": "code",
   "execution_count": 18,
   "metadata": {},
   "outputs": [
    {
     "name": "stdout",
     "output_type": "stream",
     "text": [
      "country india\n",
      "active cases 78000\n",
      "recovered 25000\n",
      "migrated 1\n"
     ]
    }
   ],
   "source": [
    "for keys,values in d.items():\n",
    "    print(keys,values)"
   ]
  },
  {
   "cell_type": "code",
   "execution_count": 19,
   "metadata": {},
   "outputs": [
    {
     "data": {
      "text/plain": [
       "{'country': 'india', 'active cases': 78000, 'recovered': 25000, 'migrated': 1}"
      ]
     },
     "execution_count": 19,
     "metadata": {},
     "output_type": "execute_result"
    }
   ],
   "source": [
    "d"
   ]
  },
  {
   "cell_type": "code",
   "execution_count": 22,
   "metadata": {},
   "outputs": [
    {
     "name": "stdout",
     "output_type": "stream",
     "text": [
      "data found\n"
     ]
    }
   ],
   "source": [
    "for keys in d.keys():\n",
    "    if keys=='country':\n",
    "        print(\"data found\")\n",
    "    "
   ]
  },
  {
   "cell_type": "code",
   "execution_count": 23,
   "metadata": {},
   "outputs": [],
   "source": [
    "# code application "
   ]
  },
  {
   "cell_type": "code",
   "execution_count": 24,
   "metadata": {},
   "outputs": [],
   "source": [
    "# bank application"
   ]
  },
  {
   "cell_type": "code",
   "execution_count": 25,
   "metadata": {},
   "outputs": [
    {
     "name": "stdout",
     "output_type": "stream",
     "text": [
      "please enter youre credit card number090\n",
      "youre logged out. Enter correct credit card number\n",
      "Enter the month printed on the cc12\n",
      "youre card is valid\n"
     ]
    }
   ],
   "source": [
    "cc=int(input(\"please enter youre credit card number\"))\n",
    "aa=str(cc)\n",
    "\n",
    "if len(aa)==14:\n",
    "    print(\"length valid. Proceed ahead\")\n",
    "else:\n",
    "    print(\"youre logged out. Enter correct credit card number\")\n",
    "    \n",
    "mm=int(input(\"Enter the month printed on the cc\"))\n",
    "\n",
    "if mm>=5:\n",
    "    print(\"youre card is valid\")\n",
    "else:\n",
    "    print(\"youre card has expired\")\n",
    "    \n",
    "# check the year. if the year=2020, card is valid.if the year >2020 :valid,year<2020 ==>expired\n",
    "# create a dictionary of valid bank customers\n",
    "# check the name of the customer on the cc. if its a valid name proceed ahead. if its not a valid name. the session is logged out."
   ]
  },
  {
   "cell_type": "code",
   "execution_count": 26,
   "metadata": {},
   "outputs": [],
   "source": [
    "# enumerate with for loop"
   ]
  },
  {
   "cell_type": "code",
   "execution_count": 29,
   "metadata": {},
   "outputs": [
    {
     "name": "stdout",
     "output_type": "stream",
     "text": [
      "[(100, 1), (101, 2), (102, 3)]\n",
      "[(100, 1), (101, 2), (102, 3)]\n",
      "[(100, 1), (101, 2), (102, 3)]\n"
     ]
    }
   ],
   "source": [
    "list1=[1,2,3]\n",
    "for data in list1:\n",
    "    print(list(enumerate(list1,start=100)))"
   ]
  },
  {
   "cell_type": "code",
   "execution_count": 41,
   "metadata": {},
   "outputs": [
    {
     "name": "stdout",
     "output_type": "stream",
     "text": [
      "0b1\n",
      "0b10\n",
      "0b11\n",
      "0b100\n",
      "0b101\n",
      "0b110\n",
      "0b111\n",
      "0b1000\n",
      "0b1001\n"
     ]
    }
   ],
   "source": [
    "n1=[1,2,3,4,5,6,7,8,9]\n",
    "for numbers in n1:\n",
    "    print(bin(numbers))"
   ]
  },
  {
   "cell_type": "code",
   "execution_count": 31,
   "metadata": {},
   "outputs": [
    {
     "name": "stdout",
     "output_type": "stream",
     "text": [
      "1\n",
      "4\n",
      "9\n",
      "16\n",
      "25\n",
      "36\n",
      "49\n",
      "64\n",
      "81\n"
     ]
    }
   ],
   "source": [
    "for numbers in n1:\n",
    "    print(numbers**2)"
   ]
  },
  {
   "cell_type": "code",
   "execution_count": 33,
   "metadata": {},
   "outputs": [
    {
     "name": "stdout",
     "output_type": "stream",
     "text": [
      "0x1\n",
      "0x2\n",
      "0x3\n",
      "0x4\n",
      "0x5\n",
      "0x6\n",
      "0x7\n",
      "0x8\n",
      "0x9\n"
     ]
    }
   ],
   "source": [
    "for numbers in n1:\n",
    "    print(hex(numbers))"
   ]
  },
  {
   "cell_type": "code",
   "execution_count": 34,
   "metadata": {},
   "outputs": [],
   "source": [
    "n2=['python','machine learning']"
   ]
  },
  {
   "cell_type": "code",
   "execution_count": 35,
   "metadata": {},
   "outputs": [
    {
     "name": "stdout",
     "output_type": "stream",
     "text": [
      "python\n",
      "machine learning\n"
     ]
    }
   ],
   "source": [
    "for words in n2:\n",
    "    print(words)"
   ]
  },
  {
   "cell_type": "code",
   "execution_count": 37,
   "metadata": {},
   "outputs": [
    {
     "name": "stdout",
     "output_type": "stream",
     "text": [
      "Python\n",
      "Machine learning\n"
     ]
    }
   ],
   "source": [
    "for words in n2:\n",
    "    print(words.capitalize())"
   ]
  },
  {
   "cell_type": "code",
   "execution_count": 39,
   "metadata": {},
   "outputs": [],
   "source": [
    "n=1,2"
   ]
  },
  {
   "cell_type": "code",
   "execution_count": 40,
   "metadata": {},
   "outputs": [
    {
     "data": {
      "text/plain": [
       "tuple"
      ]
     },
     "execution_count": 40,
     "metadata": {},
     "output_type": "execute_result"
    }
   ],
   "source": [
    "type(n)"
   ]
  },
  {
   "cell_type": "code",
   "execution_count": null,
   "metadata": {},
   "outputs": [],
   "source": []
  }
 ],
 "metadata": {
  "kernelspec": {
   "display_name": "Python 3",
   "language": "python",
   "name": "python3"
  },
  "language_info": {
   "codemirror_mode": {
    "name": "ipython",
    "version": 3
   },
   "file_extension": ".py",
   "mimetype": "text/x-python",
   "name": "python",
   "nbconvert_exporter": "python",
   "pygments_lexer": "ipython3",
   "version": "3.7.3"
  }
 },
 "nbformat": 4,
 "nbformat_minor": 2
}
