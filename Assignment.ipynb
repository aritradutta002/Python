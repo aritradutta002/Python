{
 "cells": [
  {
   "cell_type": "markdown",
   "metadata": {},
   "source": [
    "## 1. Python Program to add two numbers\n"
   ]
  },
  {
   "cell_type": "code",
   "execution_count": 1,
   "metadata": {},
   "outputs": [
    {
     "name": "stdout",
     "output_type": "stream",
     "text": [
      "Enter first number:20\n",
      "Enter second number:30\n",
      "The sum of 20.0 and 30.0 is 50.0\n"
     ]
    }
   ],
   "source": [
    "a = float(input('Enter first number:'))\n",
    "b = float(input('Enter second number:'))\n",
    "print('The sum of {0} and {1} is {2}'.format(a,b,a+b))"
   ]
  },
  {
   "cell_type": "markdown",
   "metadata": {},
   "source": [
    "## 2. Python Program for factorial of a number\n"
   ]
  },
  {
   "cell_type": "code",
   "execution_count": 3,
   "metadata": {},
   "outputs": [
    {
     "name": "stdout",
     "output_type": "stream",
     "text": [
      "Enter a number to find it's factorial:5\n",
      "The factorial of 5 is 120\n"
     ]
    }
   ],
   "source": [
    "n = int(input(\"Enter a number to find it's factorial:\"))\n",
    "res = 1\n",
    "for i in range(2,n+1):\n",
    "    res*=i\n",
    "print('The factorial of {0} is {1}'.format(n,res))"
   ]
  },
  {
   "cell_type": "markdown",
   "metadata": {},
   "source": [
    "## 3. Python Program for simple interest\n"
   ]
  },
  {
   "cell_type": "code",
   "execution_count": 4,
   "metadata": {},
   "outputs": [
    {
     "name": "stdout",
     "output_type": "stream",
     "text": [
      "Enter principle amount:100\n",
      "Enter time:1\n",
      "Enter rate of interest:5\n",
      "The simple interest is 5.0\n"
     ]
    }
   ],
   "source": [
    "p = float(input('Enter principle amount:'))\n",
    "t = float(input('Enter time in year:'))\n",
    "r = float(input('Enter rate of interest:'))\n",
    "si = (p*t*r)/100\n",
    "print('The simple interest is',si)"
   ]
  },
  {
   "cell_type": "markdown",
   "metadata": {},
   "source": [
    "## 4. Python Program for compound interest\n"
   ]
  },
  {
   "cell_type": "code",
   "execution_count": 5,
   "metadata": {},
   "outputs": [
    {
     "name": "stdout",
     "output_type": "stream",
     "text": [
      "Enter principle amount:1200\n",
      "Enter time in year:2\n",
      "Enter rate of interest:5.4\n",
      "The compound interest is 1333.0992\n"
     ]
    }
   ],
   "source": [
    "p = float(input('Enter principle amount:'))\n",
    "t = float(input('Enter time in year:'))\n",
    "r = float(input('Enter rate of interest:'))\n",
    "ci = p*(1+(r/100))**t\n",
    "print('The compound interest is',ci)"
   ]
  },
  {
   "cell_type": "markdown",
   "metadata": {},
   "source": [
    "## 5. Python Program to check Armstrong Number\n"
   ]
  },
  {
   "cell_type": "code",
   "execution_count": 11,
   "metadata": {},
   "outputs": [
    {
     "name": "stdout",
     "output_type": "stream",
     "text": [
      "Enter a number to check it is Armstrong number or not:1634\n",
      "1634 is a Armstrong number\n"
     ]
    }
   ],
   "source": [
    "n = input('Enter a number to check it is Armstrong number or not:')\n",
    "l = len(n)\n",
    "sum = 0\n",
    "for i in n:\n",
    "    sum+=int(i)**l\n",
    "if (sum==int(n)):\n",
    "    print('{0} is a Armstrong number'.format(n))\n",
    "else:\n",
    "    print('{0} is not a Armstrong number'.format(n))"
   ]
  },
  {
   "cell_type": "markdown",
   "metadata": {},
   "source": [
    "## 6. Python Program for Program to find area of a circle\n"
   ]
  },
  {
   "cell_type": "code",
   "execution_count": 12,
   "metadata": {},
   "outputs": [
    {
     "name": "stdout",
     "output_type": "stream",
     "text": [
      "Enter raius of a circle:7\n",
      "The area of the circle is 153.86\n"
     ]
    }
   ],
   "source": [
    "r = float(input('Enter raius of a circle:'))\n",
    "pi = 3.14\n",
    "area = pi*r*r\n",
    "print('The area of the circle is',area)"
   ]
  },
  {
   "cell_type": "markdown",
   "metadata": {},
   "source": [
    "## 7. Python program to print all Prime numbers in an Interval\n"
   ]
  },
  {
   "cell_type": "code",
   "execution_count": 19,
   "metadata": {},
   "outputs": [
    {
     "name": "stdout",
     "output_type": "stream",
     "text": [
      "Enter starting point:140\n",
      "Enter ending point:150\n",
      "The prime numbers are [149]\n"
     ]
    }
   ],
   "source": [
    "import math\n",
    "def is_prime(n):\n",
    "    i=2\n",
    "    flag=0\n",
    "    while(i<(n/2)):\n",
    "        if n%i == 0:\n",
    "            flag = 1\n",
    "        i+=1\n",
    "    if flag==1:\n",
    "        return False\n",
    "    else:\n",
    "        return True\n",
    "s = int(input('Enter starting point:'))\n",
    "e = int(input('Enter ending point:'))\n",
    "list1 = []\n",
    "for i in range(s,e+1):\n",
    "    if is_prime(i):\n",
    "        list1.append(i)\n",
    "print('The prime numbers are',list1)"
   ]
  },
  {
   "cell_type": "markdown",
   "metadata": {},
   "source": [
    "## 8. Python program to check whether a number is Prime or not\n"
   ]
  },
  {
   "cell_type": "code",
   "execution_count": 22,
   "metadata": {},
   "outputs": [
    {
     "name": "stdout",
     "output_type": "stream",
     "text": [
      "Enter a number to check it is prime or not:47\n",
      "True\n"
     ]
    }
   ],
   "source": [
    "n = int(input('Enter a number to check it is prime or not:'))\n",
    "i=2\n",
    "flag=0\n",
    "while(i<(n/2)):\n",
    "    if n%i == 0:\n",
    "        flag = 1\n",
    "    i+=1\n",
    "if flag==1:\n",
    "    print('False')\n",
    "else:\n",
    "    print('True')"
   ]
  },
  {
   "cell_type": "markdown",
   "metadata": {},
   "source": [
    "## 9. Python Program for n-th Fibonacci number\n"
   ]
  },
  {
   "cell_type": "code",
   "execution_count": 26,
   "metadata": {},
   "outputs": [
    {
     "name": "stdout",
     "output_type": "stream",
     "text": [
      "Enter which fibonacci number you want:16\n",
      "The number is 610\n"
     ]
    }
   ],
   "source": [
    "def fibo(n):\n",
    "    a = 0\n",
    "    b = 1\n",
    "    list1 = []\n",
    "    for i in range(n):\n",
    "        list1.append(a)\n",
    "        a,b = b,a+b\n",
    "    return list1[-1]\n",
    "n = int(input('Enter which fibonacci number you want:'))\n",
    "print('The number is',fibo(n))"
   ]
  },
  {
   "cell_type": "markdown",
   "metadata": {},
   "source": [
    "## 10. Python Program for printing Fibonacci numbers\n"
   ]
  },
  {
   "cell_type": "code",
   "execution_count": 28,
   "metadata": {},
   "outputs": [
    {
     "name": "stdout",
     "output_type": "stream",
     "text": [
      "Enter how many fibonacci numbers you want:16\n",
      "The fibonacci numbers are [0, 1, 1, 2, 3, 5, 8, 13, 21, 34, 55, 89, 144, 233, 377, 610]\n"
     ]
    }
   ],
   "source": [
    "n = int(input('Enter how many fibonacci numbers you want:'))\n",
    "a = 0\n",
    "b = 1\n",
    "list1 = []\n",
    "for i in range(n):\n",
    "    list1.append(a)\n",
    "    a,b = b,a+b\n",
    "print('The fibonacci numbers are',list1)"
   ]
  },
  {
   "cell_type": "markdown",
   "metadata": {},
   "source": [
    "## 11. Python Program for How to check if a given number is Fibonacci number?\n"
   ]
  },
  {
   "cell_type": "code",
   "execution_count": 37,
   "metadata": {},
   "outputs": [
    {
     "name": "stdout",
     "output_type": "stream",
     "text": [
      "Enter a number to check it is fibonacci number or not:5\n",
      "Yes\n"
     ]
    }
   ],
   "source": [
    "n = int(input('Enter a number to check it is fibonacci number or not:'))\n",
    "a = 0\n",
    "b = 1\n",
    "list1 = []\n",
    "for i in range(n+2):\n",
    "    list1.append(a)\n",
    "    a,b = b,a+b\n",
    "if n in list1:\n",
    "    print('Yes')\n",
    "else:\n",
    "    print('No')"
   ]
  },
  {
   "cell_type": "markdown",
   "metadata": {},
   "source": [
    "## 12. Program to print ASCII Value of a character\n"
   ]
  },
  {
   "cell_type": "code",
   "execution_count": 5,
   "metadata": {},
   "outputs": [
    {
     "name": "stdout",
     "output_type": "stream",
     "text": [
      "Enter a character:D\n",
      "The ASCII value of char D is:  68\n"
     ]
    }
   ],
   "source": [
    "n = input('Enter a character:')\n",
    "print(\"The ASCII value of char \" + n + \" is: \",ord(n))"
   ]
  },
  {
   "cell_type": "markdown",
   "metadata": {},
   "source": [
    "## 13. Python Program for Sum of squares of first n natural numbers\n"
   ]
  },
  {
   "cell_type": "code",
   "execution_count": 9,
   "metadata": {},
   "outputs": [
    {
     "name": "stdout",
     "output_type": "stream",
     "text": [
      "Enter a range:5\n",
      "The sum of squares of 5 numbers is 55\n"
     ]
    }
   ],
   "source": [
    "n = int(input('Enter a range:'))\n",
    "sum=0\n",
    "for i in range(1,n+1):\n",
    "    sum+=(i**2)\n",
    "print('The sum of squares of {0} numbers is {1}'.format(n,sum))"
   ]
  },
  {
   "cell_type": "markdown",
   "metadata": {},
   "source": [
    "## 14. Python Program for cube sum of first n natural numbers\n"
   ]
  },
  {
   "cell_type": "code",
   "execution_count": 14,
   "metadata": {},
   "outputs": [
    {
     "name": "stdout",
     "output_type": "stream",
     "text": [
      "Enter a range:7\n",
      "The sum of squares of 7 numbers is 784\n"
     ]
    }
   ],
   "source": [
    "n = int(input('Enter a range:'))\n",
    "sum=0\n",
    "for i in range(1,n+1):\n",
    "    sum+=(i**3)\n",
    "print('The sum of squares of {0} numbers is {1}'.format(n,sum))"
   ]
  },
  {
   "cell_type": "markdown",
   "metadata": {},
   "source": []
  }
 ],
 "metadata": {
  "kernelspec": {
   "display_name": "Python 3",
   "language": "python",
   "name": "python3"
  },
  "language_info": {
   "codemirror_mode": {
    "name": "ipython",
    "version": 3
   },
   "file_extension": ".py",
   "mimetype": "text/x-python",
   "name": "python",
   "nbconvert_exporter": "python",
   "pygments_lexer": "ipython3",
   "version": "3.7.4"
  }
 },
 "nbformat": 4,
 "nbformat_minor": 2
}
