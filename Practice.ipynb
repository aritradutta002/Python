{
 "cells": [
  {
   "cell_type": "code",
   "execution_count": 5,
   "metadata": {},
   "outputs": [],
   "source": [
    "import math"
   ]
  },
  {
   "cell_type": "code",
   "execution_count": 2,
   "metadata": {},
   "outputs": [
    {
     "name": "stdout",
     "output_type": "stream",
     "text": [
      "INDIA\n",
      "AUSTRALIA\n",
      "USA\n",
      "EUROPE\n"
     ]
    }
   ],
   "source": [
    "list1 = ['India','Australia','Usa','Europe']\n",
    "for i in list1:\n",
    "    print(i.upper())"
   ]
  },
  {
   "cell_type": "code",
   "execution_count": 3,
   "metadata": {},
   "outputs": [
    {
     "data": {
      "text/plain": [
       "['India', 'Australia', 'Usa', 'Europe']"
      ]
     },
     "execution_count": 3,
     "metadata": {},
     "output_type": "execute_result"
    }
   ],
   "source": [
    "list1"
   ]
  },
  {
   "cell_type": "code",
   "execution_count": 5,
   "metadata": {},
   "outputs": [
    {
     "data": {
      "text/plain": [
       "['INDIA', 'AUSTRALIA', 'USA', 'EUROPE']"
      ]
     },
     "execution_count": 5,
     "metadata": {},
     "output_type": "execute_result"
    }
   ],
   "source": [
    "[i.upper() for i in list1]"
   ]
  },
  {
   "cell_type": "code",
   "execution_count": 8,
   "metadata": {},
   "outputs": [
    {
     "name": "stdout",
     "output_type": "stream",
     "text": [
      "IND\n",
      "AUS\n",
      "USA\n",
      "EUR\n"
     ]
    }
   ],
   "source": [
    "list1 = ['India','Australia','Usa','Europe']\n",
    "for i in list1:\n",
    "    print(i[:3].upper())"
   ]
  },
  {
   "cell_type": "code",
   "execution_count": 13,
   "metadata": {},
   "outputs": [
    {
     "name": "stdout",
     "output_type": "stream",
     "text": [
      "[22, 88, 66, 176, 99]\n"
     ]
    }
   ],
   "source": [
    "list2 = [22,44,66,88,99]\n",
    "for i in range(1,len(list2)):\n",
    "    if i%2!=0:\n",
    "        list2[i]*=2\n",
    "print(list2)"
   ]
  },
  {
   "cell_type": "code",
   "execution_count": 7,
   "metadata": {},
   "outputs": [
    {
     "name": "stdout",
     "output_type": "stream",
     "text": [
      "Enter a number45\n",
      "[47, 49, 53, 59, 61]\n"
     ]
    }
   ],
   "source": [
    "n = int(input('Enter a number'))\n",
    "n+=1\n",
    "count = 0\n",
    "list3=[]\n",
    "while True:\n",
    "    flag=0\n",
    "    z = int(math.sqrt(n))\n",
    "    for i in range(2,z):\n",
    "        if n%i==0:\n",
    "            flag=1\n",
    "    if flag==0:\n",
    "        count+=1\n",
    "        list3.append(n)\n",
    "    if count==5:\n",
    "        break\n",
    "    n+=1\n",
    "print(list3)"
   ]
  },
  {
   "cell_type": "code",
   "execution_count": 2,
   "metadata": {},
   "outputs": [
    {
     "name": "stdout",
     "output_type": "stream",
     "text": [
      "prime\n"
     ]
    }
   ],
   "source": [
    "n = 11\n",
    "count=0\n",
    "for i in range(2,n):\n",
    "    if n%i==0:\n",
    "        count+=1\n",
    "if count==0:\n",
    "    print('prime')\n",
    "else:\n",
    "    print('not prime')"
   ]
  },
  {
   "cell_type": "code",
   "execution_count": 9,
   "metadata": {},
   "outputs": [
    {
     "data": {
      "text/plain": [
       "6.708203932499369"
      ]
     },
     "execution_count": 9,
     "metadata": {},
     "output_type": "execute_result"
    }
   ],
   "source": [
    "math.sqrt(45)"
   ]
  },
  {
   "cell_type": "code",
   "execution_count": 10,
   "metadata": {},
   "outputs": [
    {
     "name": "stdout",
     "output_type": "stream",
     "text": [
      "{'g': 2, 'r': 2, 'e': 2, 'a': 2, 't': 1, ' ': 3, 'l': 1, 'n': 3, 'i': 2, 's': 1, 'f': 1, 'u': 1}\n"
     ]
    }
   ],
   "source": [
    "dict1={}\n",
    "string = 'great learning is fun'\n",
    "for i in string:\n",
    "    if i in dict1.keys():\n",
    "        dict1[i]+=1\n",
    "    else:\n",
    "        dict1[i]=1\n",
    "print(dict1)"
   ]
  },
  {
   "cell_type": "code",
   "execution_count": 13,
   "metadata": {},
   "outputs": [
    {
     "data": {
      "text/plain": [
       "'gr@at l@arning is fun'"
      ]
     },
     "execution_count": 13,
     "metadata": {},
     "output_type": "execute_result"
    }
   ],
   "source": [
    "string.replace('e','@')"
   ]
  },
  {
   "cell_type": "code",
   "execution_count": 14,
   "metadata": {},
   "outputs": [
    {
     "data": {
      "text/plain": [
       "['great', 'learning', 'is', 'fun']"
      ]
     },
     "execution_count": 14,
     "metadata": {},
     "output_type": "execute_result"
    }
   ],
   "source": [
    "string.split()"
   ]
  },
  {
   "cell_type": "code",
   "execution_count": null,
   "metadata": {},
   "outputs": [],
   "source": []
  }
 ],
 "metadata": {
  "kernelspec": {
   "display_name": "Python 3",
   "language": "python",
   "name": "python3"
  },
  "language_info": {
   "codemirror_mode": {
    "name": "ipython",
    "version": 3
   },
   "file_extension": ".py",
   "mimetype": "text/x-python",
   "name": "python",
   "nbconvert_exporter": "python",
   "pygments_lexer": "ipython3",
   "version": "3.7.4"
  }
 },
 "nbformat": 4,
 "nbformat_minor": 2
}
