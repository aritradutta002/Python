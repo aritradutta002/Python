{
 "cells": [
  {
   "cell_type": "markdown",
   "metadata": {
    "colab_type": "text",
    "id": "ewz9z--GQgh8"
   },
   "source": [
    "#### 1. Write a Python function to multiply all the numbers in a list."
   ]
  },
  {
   "cell_type": "code",
   "execution_count": 54,
   "metadata": {
    "colab": {},
    "colab_type": "code",
    "id": "lK-hZOrfQgh_"
   },
   "outputs": [
    {
     "name": "stdout",
     "output_type": "stream",
     "text": [
      "3456\n"
     ]
    }
   ],
   "source": [
    "def mul(list1):\n",
    "    result = list1[0]\n",
    "    for i in range(1,len(list1)):\n",
    "        result *= list1[i]\n",
    "    return result\n",
    "l = [2,4,6,8,9]\n",
    "res = mul(l)\n",
    "print(res)"
   ]
  },
  {
   "cell_type": "markdown",
   "metadata": {
    "colab_type": "text",
    "id": "u87J1CV1QgiC"
   },
   "source": [
    "#### 2. Write a Python function to reverse a string use the while loop also?"
   ]
  },
  {
   "cell_type": "code",
   "execution_count": 56,
   "metadata": {
    "colab": {},
    "colab_type": "code",
    "id": "BlZ3CK0RQgiD"
   },
   "outputs": [
    {
     "name": "stdout",
     "output_type": "stream",
     "text": [
      "madam\n"
     ]
    }
   ],
   "source": [
    "def revstr(s):\n",
    "    i = len(s)\n",
    "    s1 = ''\n",
    "    while i>0:\n",
    "        s1 += s[i-1]\n",
    "        i-=1\n",
    "    return s1\n",
    "string = 'madam'\n",
    "rev = revstr(string)\n",
    "print (rev)"
   ]
  },
  {
   "cell_type": "markdown",
   "metadata": {
    "colab_type": "text",
    "id": "9SENBvktQgiG"
   },
   "source": [
    "###### 3. Write a function to add and subtract two variables"
   ]
  },
  {
   "cell_type": "code",
   "execution_count": 57,
   "metadata": {
    "colab": {},
    "colab_type": "code",
    "id": "rwQ6-v82QgiH"
   },
   "outputs": [
    {
     "name": "stdout",
     "output_type": "stream",
     "text": [
      "80 20\n"
     ]
    }
   ],
   "source": [
    "def addsub(x,y):\n",
    "    return (x+y,x-y)\n",
    "num1 = 50\n",
    "num2 = 30\n",
    "addition,subtraction = addsub(num1,num2)\n",
    "print(addition,subtraction)"
   ]
  },
  {
   "cell_type": "markdown",
   "metadata": {
    "colab_type": "text",
    "id": "g2Z8raThQgiK"
   },
   "source": [
    "###### 4. Write a function to check the number is divisible by 12"
   ]
  },
  {
   "cell_type": "code",
   "execution_count": 58,
   "metadata": {
    "colab": {},
    "colab_type": "code",
    "id": "IVEQ_4cXQgiL"
   },
   "outputs": [
    {
     "name": "stdout",
     "output_type": "stream",
     "text": [
      "True\n"
     ]
    }
   ],
   "source": [
    "def my_func(n):\n",
    "    return n%12==0\n",
    "num = 48\n",
    "res = my_func(num)\n",
    "print(res)"
   ]
  },
  {
   "cell_type": "markdown",
   "metadata": {
    "colab_type": "text",
    "id": "RIsrZfBnQgiP"
   },
   "source": [
    "###### 5. Write a function to calculate the number of days and weeks"
   ]
  },
  {
   "cell_type": "code",
   "execution_count": 42,
   "metadata": {
    "colab": {},
    "colab_type": "code",
    "id": "vhEQgxw5QgiQ"
   },
   "outputs": [
    {
     "data": {
      "text/plain": [
       "'1 week(s) and 6 days'"
      ]
     },
     "execution_count": 42,
     "metadata": {},
     "output_type": "execute_result"
    }
   ],
   "source": [
    "def calc(days):\n",
    "    weeks = days//7\n",
    "    remainder = days%7\n",
    "    return '{} week(s) and {} days'.format(weeks,remainder)\n",
    "calc(13)"
   ]
  },
  {
   "cell_type": "markdown",
   "metadata": {
    "colab_type": "text",
    "id": "NIZ46IPLQgiU"
   },
   "source": [
    "#### 6.Write a Python function to Find the 5!?"
   ]
  },
  {
   "cell_type": "code",
   "execution_count": 59,
   "metadata": {
    "colab": {},
    "colab_type": "code",
    "id": "PQnTOPBHQgiV"
   },
   "outputs": [
    {
     "name": "stdout",
     "output_type": "stream",
     "text": [
      "120\n"
     ]
    }
   ],
   "source": [
    "def factorial(n):\n",
    "    if n==0:\n",
    "        return 1\n",
    "    else:\n",
    "        return n*factorial(n-1)\n",
    "print(factorial(5))"
   ]
  },
  {
   "cell_type": "markdown",
   "metadata": {
    "colab_type": "text",
    "id": "litT6sm5QgiX"
   },
   "source": [
    "#### 7. Write a Python function Find the unique elements of the first list = [1,2,3,3,3,3,4,5,4,2,4,2,4,4,2,4,5,4,34,654,5,7,6,5,4,3]?\n"
   ]
  },
  {
   "cell_type": "code",
   "execution_count": 60,
   "metadata": {
    "colab": {},
    "colab_type": "code",
    "id": "wQFmhxsZQgiZ"
   },
   "outputs": [
    {
     "name": "stdout",
     "output_type": "stream",
     "text": [
      "[1, 2, 3, 4, 5, 34, 7, 6, 654]\n"
     ]
    }
   ],
   "source": [
    "def unique(l):\n",
    "    s = set(l)\n",
    "    return list(s)\n",
    "list1 = [1,2,3,3,3,3,4,5,4,2,4,2,4,4,2,4,5,4,34,654,5,7,6,5,4,3]\n",
    "print(unique(list1))"
   ]
  },
  {
   "cell_type": "markdown",
   "metadata": {
    "colab_type": "text",
    "id": "9agw2EBoQgib"
   },
   "source": [
    "#### Types of arguments\n",
    "\n",
    "\n",
    "    1. Required arguments\n",
    "    2. Keyword arguments\n",
    "    3. Default arguments\n",
    "   "
   ]
  },
  {
   "cell_type": "markdown",
   "metadata": {
    "colab_type": "text",
    "id": "VZ9GRyB3Qgic"
   },
   "source": [
    "####  1. Required arguments: (the function simple_interest accepts three arguments and returns the simple interest accordingly)"
   ]
  },
  {
   "cell_type": "code",
   "execution_count": 61,
   "metadata": {
    "colab": {},
    "colab_type": "code",
    "id": "lS3oIyt8Qgie"
   },
   "outputs": [
    {
     "name": "stdout",
     "output_type": "stream",
     "text": [
      "Enter amount:1000\n",
      "Enter time:3\n",
      "Enter rate:10\n",
      "Simple Interest is  300.0\n"
     ]
    }
   ],
   "source": [
    "def simple_interest(p,t,r):\n",
    "    return (p*t*r)/100\n",
    "p = float(input('Enter amount:'))\n",
    "t = float(input('Enter time:'))\n",
    "r = float(input('Enter rate:'))\n",
    "print('Simple Interest is ',simple_interest(p,t,r))"
   ]
  },
  {
   "cell_type": "markdown",
   "metadata": {
    "colab_type": "text",
    "id": "xbotxe88Qgig"
   },
   "source": [
    "#### 2.Keyword arguments:(Function is called with the name and message as the keyword arguments)"
   ]
  },
  {
   "cell_type": "code",
   "execution_count": 2,
   "metadata": {
    "colab": {},
    "colab_type": "code",
    "id": "vXrs1SGPQgih"
   },
   "outputs": [
    {
     "name": "stdout",
     "output_type": "stream",
     "text": [
      "Printing the message with name = Aritra and mssage = Hello World\n"
     ]
    }
   ],
   "source": [
    "def function(*args):\n",
    "    print('Printing the message with name = {} and mssage = {}'.format(args[0],args[1]))\n",
    "function('Aritra','Hello World')"
   ]
  },
  {
   "cell_type": "markdown",
   "metadata": {
    "colab_type": "text",
    "id": "_LcvVsPrQgim"
   },
   "source": [
    "#### 3.Default Arguments:()"
   ]
  },
  {
   "cell_type": "code",
   "execution_count": 47,
   "metadata": {
    "colab": {},
    "colab_type": "code",
    "id": "FyHnBEofQgim"
   },
   "outputs": [
    {
     "name": "stdout",
     "output_type": "stream",
     "text": [
      "My name is Aritra and age is 23\n"
     ]
    }
   ],
   "source": [
    "def printme(name,age=23):\n",
    "    print('My name is {} and age is {}'.format(name,age))\n",
    "printme('Aritra')"
   ]
  },
  {
   "cell_type": "markdown",
   "metadata": {
    "colab_type": "text",
    "id": "vlbfErrdQgip"
   },
   "source": [
    "### lambda function"
   ]
  },
  {
   "cell_type": "markdown",
   "metadata": {
    "colab_type": "text",
    "id": "LfFUwKixQgi1"
   },
   "source": [
    "#### 1. Take the input the user input find it is even or odd number?"
   ]
  },
  {
   "cell_type": "code",
   "execution_count": 20,
   "metadata": {
    "colab": {},
    "colab_type": "code",
    "id": "s8HgnLo6Qgi1"
   },
   "outputs": [
    {
     "name": "stdout",
     "output_type": "stream",
     "text": [
      "Enter a number:78\n",
      "Even\n"
     ]
    }
   ],
   "source": [
    "n = int(input('Enter a number:'))\n",
    "ans = lambda n:'Even' if n%2==0  else 'Odd'\n",
    "print(ans(n))"
   ]
  },
  {
   "cell_type": "markdown",
   "metadata": {
    "colab_type": "text",
    "id": "NBvh7UY8Qgi4"
   },
   "source": [
    "#### 2. Take the input from user and  square it"
   ]
  },
  {
   "cell_type": "code",
   "execution_count": 21,
   "metadata": {
    "colab": {},
    "colab_type": "code",
    "id": "xUG47hOsQgi5"
   },
   "outputs": [
    {
     "name": "stdout",
     "output_type": "stream",
     "text": [
      "Enter a number:12\n",
      "144.0\n"
     ]
    }
   ],
   "source": [
    "n = float(input('Enter a number:'))\n",
    "ans = lambda x:x**2\n",
    "print(ans(n))"
   ]
  },
  {
   "cell_type": "markdown",
   "metadata": {
    "colab_type": "text",
    "id": "ht5XKfNXQgi8"
   },
   "source": [
    "#### 3. Write a lambda function using logical operators?"
   ]
  },
  {
   "cell_type": "code",
   "execution_count": 51,
   "metadata": {
    "colab": {},
    "colab_type": "code",
    "id": "wjYpySTcQgi9"
   },
   "outputs": [
    {
     "name": "stdout",
     "output_type": "stream",
     "text": [
      "False\n",
      "True\n"
     ]
    }
   ],
   "source": [
    "n = lambda x : x>50\n",
    "print(n(30))\n",
    "print(n(60))"
   ]
  },
  {
   "cell_type": "markdown",
   "metadata": {
    "colab_type": "text",
    "id": "OkNj5AiXQgjA"
   },
   "source": [
    "#### 4. Take a integer input from the user write a lambda function to add 5 and print it back?"
   ]
  },
  {
   "cell_type": "code",
   "execution_count": 23,
   "metadata": {
    "colab": {},
    "colab_type": "code",
    "id": "1PIvlyTdQgjB"
   },
   "outputs": [
    {
     "name": "stdout",
     "output_type": "stream",
     "text": [
      "Enter a number:89.23\n",
      "94.23\n"
     ]
    }
   ],
   "source": [
    "n = float(input('Enter a number:'))\n",
    "ans = lambda x:x+5\n",
    "print(ans(n))"
   ]
  },
  {
   "cell_type": "markdown",
   "metadata": {
    "colab_type": "text",
    "id": "OujnXYLsQgjD"
   },
   "source": [
    "### Map"
   ]
  },
  {
   "cell_type": "markdown",
   "metadata": {
    "colab_type": "text",
    "id": "KaskbPD5QgjH"
   },
   "source": [
    "#### 1. Adding two lists using map ()\n",
    "     lis1 = [12, 24, 36] \n",
    "     lis2 = [41, 54, 69] "
   ]
  },
  {
   "cell_type": "code",
   "execution_count": 24,
   "metadata": {
    "colab": {},
    "colab_type": "code",
    "id": "0Zze5CElQgjI"
   },
   "outputs": [
    {
     "name": "stdout",
     "output_type": "stream",
     "text": [
      "[53, 78, 105]\n"
     ]
    }
   ],
   "source": [
    "lis1 = [12, 24, 36] \n",
    "lis2 = [41, 54, 69] \n",
    "print(list(map(lambda x,y:x+y,lis1,lis2)))"
   ]
  },
  {
   "cell_type": "markdown",
   "metadata": {
    "colab_type": "text",
    "id": "WR4oaWUFQgjL"
   },
   "source": [
    "#### 2 Using Lambda and map functions on a List, find the square of each element in the list = [1, 2, 3, 4, 5, 6, 7]"
   ]
  },
  {
   "cell_type": "code",
   "execution_count": 25,
   "metadata": {
    "colab": {},
    "colab_type": "code",
    "id": "VySlMocZQgjM"
   },
   "outputs": [
    {
     "name": "stdout",
     "output_type": "stream",
     "text": [
      "[1, 4, 9, 16, 25, 36, 49]\n"
     ]
    }
   ],
   "source": [
    "list1 = [1, 2, 3, 4, 5, 6, 7]\n",
    "print(list(map(lambda x:x**2,list1)))"
   ]
  },
  {
   "cell_type": "markdown",
   "metadata": {
    "colab_type": "text",
    "id": "F4UwyBbzQgjQ"
   },
   "source": [
    "#### 3.Take the list = [1, 2, 3, 4, 5, 6, 7] and find the even and odd elements in the list, using the map()function?"
   ]
  },
  {
   "cell_type": "code",
   "execution_count": 29,
   "metadata": {
    "colab": {},
    "colab_type": "code",
    "id": "VwpRnZmyQgjR"
   },
   "outputs": [
    {
     "name": "stdout",
     "output_type": "stream",
     "text": [
      "['Odd', 'Even', 'Odd', 'Even', 'Odd', 'Even', 'Odd']\n"
     ]
    }
   ],
   "source": [
    "list1 = [1, 2, 3, 4, 5, 6, 7]\n",
    "print(list(map(lambda x:'Odd' if x%2!=0 else 'Even',list1)))"
   ]
  },
  {
   "cell_type": "markdown",
   "metadata": {
    "colab_type": "text",
    "id": "3sPPwRkMQgjU"
   },
   "source": [
    "#### 4. Take the list = [11, 12, 13, 14, 435, 6, 27]  To perform the Floor division by 7 on each elements on the list?"
   ]
  },
  {
   "cell_type": "code",
   "execution_count": 30,
   "metadata": {
    "colab": {},
    "colab_type": "code",
    "id": "x-oTxbRNQgjV"
   },
   "outputs": [
    {
     "name": "stdout",
     "output_type": "stream",
     "text": [
      "[1, 1, 1, 2, 62, 0, 3]\n"
     ]
    }
   ],
   "source": [
    "list1 = [11, 12, 13, 14, 435, 6, 27]\n",
    "print(list(map(lambda x:x//7,list1)))    "
   ]
  },
  {
   "cell_type": "markdown",
   "metadata": {
    "colab_type": "text",
    "id": "u5734lwxQgjX"
   },
   "source": [
    "## Filter"
   ]
  },
  {
   "cell_type": "code",
   "execution_count": 0,
   "metadata": {
    "colab": {},
    "colab_type": "code",
    "id": "ie4jXCpEQgjY"
   },
   "outputs": [],
   "source": []
  },
  {
   "cell_type": "markdown",
   "metadata": {
    "colab_type": "text",
    "id": "WSodeSmEQgja"
   },
   "source": [
    "#### 1.filter the  lis1 = [3,12, 24, 36,43,654,65432,2,654,455,43,543]   which is not divided by 2?"
   ]
  },
  {
   "cell_type": "code",
   "execution_count": 31,
   "metadata": {
    "colab": {},
    "colab_type": "code",
    "id": "T-4yE3BsQgja"
   },
   "outputs": [
    {
     "name": "stdout",
     "output_type": "stream",
     "text": [
      "[3, 43, 455, 43, 543]\n"
     ]
    }
   ],
   "source": [
    "lis1 = [3,12, 24, 36,43,654,65432,2,654,455,43,543]\n",
    "print(list(filter(lambda x:x%2!=0,lis1)))"
   ]
  },
  {
   "cell_type": "markdown",
   "metadata": {
    "colab_type": "text",
    "id": "M3sKB6_wQgje"
   },
   "source": [
    "#### 2.find the even valuse give list using filter?"
   ]
  },
  {
   "cell_type": "code",
   "execution_count": 32,
   "metadata": {
    "colab": {},
    "colab_type": "code",
    "id": "2Jw4E2m7Qgjf"
   },
   "outputs": [
    {
     "name": "stdout",
     "output_type": "stream",
     "text": [
      "[12, 24, 36, 654, 65432, 2, 654]\n"
     ]
    }
   ],
   "source": [
    "lis1 = [3,12, 24, 36,43,654,65432,2,654,455,43,543]\n",
    "print(list(filter(lambda x:x%2==0,lis1)))"
   ]
  },
  {
   "cell_type": "markdown",
   "metadata": {
    "colab_type": "text",
    "id": "FuKAfu6XQgjj"
   },
   "source": [
    "#### 3.Take list = [2,3,5,3,6,3,7,4,6,7] and find even number using user def functions?"
   ]
  },
  {
   "cell_type": "code",
   "execution_count": 36,
   "metadata": {
    "colab": {},
    "colab_type": "code",
    "id": "Fw7TeM4RQgjk"
   },
   "outputs": [
    {
     "name": "stdout",
     "output_type": "stream",
     "text": [
      "[2, 6, 4, 6]\n"
     ]
    }
   ],
   "source": [
    "def even(n):\n",
    "    return n%2==0\n",
    "list1 = [2,3,5,3,6,3,7,4,6,7]\n",
    "print(list(filter(even,list1)))"
   ]
  },
  {
   "cell_type": "markdown",
   "metadata": {
    "colab_type": "text",
    "id": "PQpZ1YM3Qgjn"
   },
   "source": [
    "##### 4. Take the list = [1, 12, 31, 4, 15, 6, 7] and find the odd numbers in ecah elements in given values?"
   ]
  },
  {
   "cell_type": "code",
   "execution_count": 37,
   "metadata": {
    "colab": {},
    "colab_type": "code",
    "id": "5Ffm9ZyHQgjp"
   },
   "outputs": [
    {
     "name": "stdout",
     "output_type": "stream",
     "text": [
      "[1, 31, 15, 7]\n"
     ]
    }
   ],
   "source": [
    "list1 = [1, 12, 31, 4, 15, 6, 7]\n",
    "print(list(filter(lambda x:x%2!=0,list1)))"
   ]
  },
  {
   "cell_type": "markdown",
   "metadata": {
    "colab_type": "text",
    "id": "CCHzjGMAQgjt"
   },
   "source": [
    " ## Reduce"
   ]
  },
  {
   "cell_type": "code",
   "execution_count": 38,
   "metadata": {
    "colab": {},
    "colab_type": "code",
    "id": "HwJTdhaqQgju"
   },
   "outputs": [],
   "source": [
    "from functools import reduce"
   ]
  },
  {
   "cell_type": "markdown",
   "metadata": {
    "colab_type": "text",
    "id": "UuqCl94bQgjx"
   },
   "source": [
    "#### 1.Take the list = [1, 2, 3, 4] and multiply all the element and use reduce function?"
   ]
  },
  {
   "cell_type": "code",
   "execution_count": 39,
   "metadata": {
    "colab": {},
    "colab_type": "code",
    "id": "Sl79fpY4Qgjy"
   },
   "outputs": [
    {
     "name": "stdout",
     "output_type": "stream",
     "text": [
      "24\n"
     ]
    }
   ],
   "source": [
    "list1 = [1, 2, 3, 4]\n",
    "print(reduce(lambda x,y:x*y,list1))"
   ]
  },
  {
   "cell_type": "markdown",
   "metadata": {
    "colab_type": "text",
    "id": "7OpO82ZOQgj0"
   },
   "source": [
    "#### 2.Take the list = [ 11 , 13, 15, 16, 2,43 ]  and sum of  all the element and use reduce function?"
   ]
  },
  {
   "cell_type": "code",
   "execution_count": 40,
   "metadata": {
    "colab": {},
    "colab_type": "code",
    "id": "kEz0P23ZQgj2"
   },
   "outputs": [
    {
     "name": "stdout",
     "output_type": "stream",
     "text": [
      "100\n"
     ]
    }
   ],
   "source": [
    "list1 = [ 11 , 13, 15, 16, 2,43 ]\n",
    "print(reduce(lambda x,y:x+y,list1))"
   ]
  },
  {
   "cell_type": "markdown",
   "metadata": {
    "colab_type": "text",
    "id": "cywlkri5Qgj4"
   },
   "source": [
    "#### 3. Take list  = [543,7,6,4567,7,78,6,6,78,765,678] and find the maximum value in the list"
   ]
  },
  {
   "cell_type": "code",
   "execution_count": 52,
   "metadata": {
    "colab": {},
    "colab_type": "code",
    "id": "Teo4jNuoQgj4"
   },
   "outputs": [
    {
     "name": "stdout",
     "output_type": "stream",
     "text": [
      "4567\n"
     ]
    }
   ],
   "source": [
    "list1 = [543,7,6,4567,7,78,6,6,78,765,678]\n",
    "print(reduce(lambda x,y:x if x>y else y,list1))"
   ]
  },
  {
   "cell_type": "markdown",
   "metadata": {
    "colab_type": "text",
    "id": "zzraoBTEQgj7"
   },
   "source": [
    "#### 4. Take the list  = [543,7,6,4567,7,78,6,6,78,765,678] find the minmum value in the list?"
   ]
  },
  {
   "cell_type": "code",
   "execution_count": 53,
   "metadata": {
    "colab": {},
    "colab_type": "code",
    "id": "ZDjddZY4Qgj8"
   },
   "outputs": [
    {
     "name": "stdout",
     "output_type": "stream",
     "text": [
      "6\n"
     ]
    }
   ],
   "source": [
    "list1 = [543,7,6,4567,7,78,6,6,78,765,678]\n",
    "print(reduce(lambda x,y:x if x<y else y,list1))"
   ]
  },
  {
   "cell_type": "code",
   "execution_count": null,
   "metadata": {},
   "outputs": [],
   "source": []
  }
 ],
 "metadata": {
  "colab": {
   "name": "Inclass-day4-Questions.ipynb",
   "provenance": []
  },
  "kernelspec": {
   "display_name": "Python 3",
   "language": "python",
   "name": "python3"
  },
  "language_info": {
   "codemirror_mode": {
    "name": "ipython",
    "version": 3
   },
   "file_extension": ".py",
   "mimetype": "text/x-python",
   "name": "python",
   "nbconvert_exporter": "python",
   "pygments_lexer": "ipython3",
   "version": "3.7.4"
  }
 },
 "nbformat": 4,
 "nbformat_minor": 1
}
