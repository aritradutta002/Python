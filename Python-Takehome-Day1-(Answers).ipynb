{
 "cells": [
  {
   "cell_type": "markdown",
   "metadata": {},
   "source": [
    "#### 1. Take two inputs from user and check whether they are equal or not."
   ]
  },
  {
   "cell_type": "code",
   "execution_count": 6,
   "metadata": {},
   "outputs": [
    {
     "name": "stdout",
     "output_type": "stream",
     "text": [
      "Enter a value: 123\n",
      "Enter another value: 123\n",
      "123 and 123 are equal\n"
     ]
    }
   ],
   "source": [
    "a = input(\"Enter a value: \")\n",
    "b = input(\"Enter another value: \")\n",
    "if(a == b):\n",
    "    print (f'{a} and {b} are equal')\n",
    "else:\n",
    "    print(f'{a} and {b} are not equal')"
   ]
  },
  {
   "cell_type": "markdown",
   "metadata": {},
   "source": [
    "#### 2. Take an single digit integer input from the user (3), print an output for (3+(33))\n"
   ]
  },
  {
   "cell_type": "code",
   "execution_count": 4,
   "metadata": {},
   "outputs": [
    {
     "name": "stdout",
     "output_type": "stream",
     "text": [
      "Enter a single digit: 3\n",
      "36\n"
     ]
    }
   ],
   "source": [
    "s = input('Enter a single digit: ')\n",
    "s1 = s+s\n",
    "#print(f'({s}+({s1}))')\n",
    "n = int(s) + int(s1)\n",
    "print(n)"
   ]
  },
  {
   "cell_type": "markdown",
   "metadata": {},
   "source": [
    "#### 3.  Write Python code to get a runtime variable as float and display as integer\n",
    "                   input: float number\n",
    "                   output: int number"
   ]
  },
  {
   "cell_type": "code",
   "execution_count": 10,
   "metadata": {},
   "outputs": [
    {
     "name": "stdout",
     "output_type": "stream",
     "text": [
      "Enter a float number: 24.865\n",
      "24\n"
     ]
    }
   ],
   "source": [
    "n = float(input(\"Enter a float number: \"))\n",
    "i = int(n)\n",
    "print(i)"
   ]
  },
  {
   "cell_type": "markdown",
   "metadata": {},
   "source": [
    "### 4. Create a single string from a LIST of characters."
   ]
  },
  {
   "cell_type": "code",
   "execution_count": 3,
   "metadata": {},
   "outputs": [
    {
     "name": "stdout",
     "output_type": "stream",
     "text": [
      "Great Learning is fun\n"
     ]
    }
   ],
   "source": [
    "l = ['Great','Learning','is','fun']\n",
    "s = ' '.join(l)\n",
    "print(s)"
   ]
  },
  {
   "cell_type": "markdown",
   "metadata": {},
   "source": [
    "#### 5. Python Program to Convert Celsius To Fahrenheit\n",
    "#####  celsius * 1.8 = fahrenheit - 32"
   ]
  },
  {
   "cell_type": "code",
   "execution_count": 14,
   "metadata": {},
   "outputs": [
    {
     "name": "stdout",
     "output_type": "stream",
     "text": [
      "96.8\n"
     ]
    }
   ],
   "source": [
    "celsius = 36\n",
    "fahrenheit = celsius * 1.8 + 32\n",
    "print(fahrenheit)"
   ]
  },
  {
   "cell_type": "markdown",
   "metadata": {},
   "source": [
    "### 5. Get the number and print it reverse"
   ]
  },
  {
   "cell_type": "code",
   "execution_count": 4,
   "metadata": {},
   "outputs": [
    {
     "name": "stdout",
     "output_type": "stream",
     "text": [
      "Enter a number to get the reverse number: 2834\n",
      "4382\n"
     ]
    }
   ],
   "source": [
    "i = int(input('Enter a number to get the reverse number: '))\n",
    "ans = 0\n",
    "while i!=0:\n",
    "    rem = i%10\n",
    "    i = i//10\n",
    "    ans = str(ans) + str(rem)\n",
    "print(int(ans))"
   ]
  },
  {
   "cell_type": "markdown",
   "metadata": {},
   "source": [
    "### 6. Check if the given runtime variable nm = \"madam  is Palindrome without using loop, for validation output can be boolean\n"
   ]
  },
  {
   "cell_type": "code",
   "execution_count": 26,
   "metadata": {},
   "outputs": [
    {
     "name": "stdout",
     "output_type": "stream",
     "text": [
      "Enter a string for Palindrome checking: madam\n",
      "True\n"
     ]
    }
   ],
   "source": [
    "s = input('Enter a string for Palindrome checking: ')\n",
    "if s[:] == s[::-1]:\n",
    "    print (True)\n",
    "else:\n",
    "    print(False)"
   ]
  },
  {
   "cell_type": "markdown",
   "metadata": {},
   "source": [
    "### 7. Python code for the given number of days, find how many weeks and how many days are left\n",
    "### eg. input = 15 days, # weeks =  2, # days left = 1"
   ]
  },
  {
   "cell_type": "code",
   "execution_count": 22,
   "metadata": {},
   "outputs": [
    {
     "name": "stdout",
     "output_type": "stream",
     "text": [
      "Enter days to find how many weeks and days remaining: 34\n",
      "4 week(s) and 6 day(s) left\n"
     ]
    }
   ],
   "source": [
    "days = int(input('Enter days to find how many weeks and days remaining: '))\n",
    "weeks = days//7\n",
    "day_left = days%7\n",
    "print (f'{weeks} week(s) and {day_left} day(s) left')"
   ]
  },
  {
   "cell_type": "markdown",
   "metadata": {},
   "source": [
    "### 8. Check if the given number is even  without using loops. Output can be in boolean"
   ]
  },
  {
   "cell_type": "code",
   "execution_count": 3,
   "metadata": {},
   "outputs": [
    {
     "name": "stdout",
     "output_type": "stream",
     "text": [
      "Enter a number to check it is even or not: 78\n",
      "True\n"
     ]
    }
   ],
   "source": [
    "n = int(input('Enter a number to check it is even or not: '))\n",
    "if n%2 == 0:\n",
    "    print(True)\n",
    "else:\n",
    "    print(False)"
   ]
  },
  {
   "cell_type": "code",
   "execution_count": null,
   "metadata": {},
   "outputs": [],
   "source": []
  }
 ],
 "metadata": {
  "kernelspec": {
   "display_name": "Python 3",
   "language": "python",
   "name": "python3"
  },
  "language_info": {
   "codemirror_mode": {
    "name": "ipython",
    "version": 3
   },
   "file_extension": ".py",
   "mimetype": "text/x-python",
   "name": "python",
   "nbconvert_exporter": "python",
   "pygments_lexer": "ipython3",
   "version": "3.7.4"
  }
 },
 "nbformat": 4,
 "nbformat_minor": 2
}
