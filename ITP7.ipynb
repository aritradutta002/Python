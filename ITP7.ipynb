{
 "cells": [
  {
   "cell_type": "code",
   "execution_count": 1,
   "metadata": {},
   "outputs": [],
   "source": [
    "#Loops"
   ]
  },
  {
   "cell_type": "code",
   "execution_count": 5,
   "metadata": {},
   "outputs": [
    {
     "name": "stdout",
     "output_type": "stream",
     "text": [
      "2\n",
      "6\n",
      "3\n",
      "9\n",
      "8\n"
     ]
    }
   ],
   "source": [
    "l1 = [2,6,3,9,8]\n",
    "for i in l1:\n",
    "    print (i)"
   ]
  },
  {
   "cell_type": "code",
   "execution_count": 6,
   "metadata": {},
   "outputs": [
    {
     "data": {
      "text/plain": [
       "range(0, 5)"
      ]
     },
     "execution_count": 6,
     "metadata": {},
     "output_type": "execute_result"
    }
   ],
   "source": [
    "range(0,5)"
   ]
  },
  {
   "cell_type": "code",
   "execution_count": 8,
   "metadata": {},
   "outputs": [
    {
     "name": "stdout",
     "output_type": "stream",
     "text": [
      "['Even', 6, 'Even', 9, 'Even']\n"
     ]
    }
   ],
   "source": [
    "for i in range(len(l1)):\n",
    "    if i%2 == 0:\n",
    "        l1[i] = 'Even'\n",
    "print(l1)"
   ]
  },
  {
   "cell_type": "code",
   "execution_count": 14,
   "metadata": {},
   "outputs": [
    {
     "name": "stdout",
     "output_type": "stream",
     "text": [
      "0\n",
      "1\n",
      "2\n",
      "3\n",
      "['APPLE', 'MANGO', 'JACKFRUIT', 'PINEAPPLE']\n"
     ]
    }
   ],
   "source": [
    "l2 = ['apple','mango','jackfruit','pineapple']\n",
    "for i in range(len(l2)):\n",
    "    l2[i]=l2[i].upper()\n",
    "print(l2)"
   ]
  },
  {
   "cell_type": "code",
   "execution_count": 21,
   "metadata": {},
   "outputs": [
    {
     "name": "stdout",
     "output_type": "stream",
     "text": [
      "('dad', 'homer')\n",
      "('mom', 'marge')\n",
      "('size', 0)\n"
     ]
    }
   ],
   "source": [
    "family = {'dad':'homer','mom':'marge','size':0}\n",
    "for key,value in family.items():\n",
    "    print((key,value))"
   ]
  },
  {
   "cell_type": "code",
   "execution_count": 22,
   "metadata": {},
   "outputs": [
    {
     "name": "stdout",
     "output_type": "stream",
     "text": [
      "('dad',)\n",
      "('mom',)\n",
      "('size',)\n"
     ]
    }
   ],
   "source": [
    "family = {'dad':'homer','mom':'marge','size':0}\n",
    "for key,value in family.items():\n",
    "    print((key,))"
   ]
  },
  {
   "cell_type": "code",
   "execution_count": 25,
   "metadata": {},
   "outputs": [
    {
     "name": "stdout",
     "output_type": "stream",
     "text": [
      "{'a': 'Dora', 'b': 'c', 'e': 'f', 'q': 'Dora', 'p': 'r', 'y': 'Dora'}\n"
     ]
    }
   ],
   "source": [
    "d = {'a':'Mary','b':'c','e':'f','q':'Mary','p':'r','y':'Mary'}\n",
    "for key in d:\n",
    "    if d[key] == 'Mary':\n",
    "        d[key] = 'Dora'\n",
    "print(d)"
   ]
  },
  {
   "cell_type": "code",
   "execution_count": 28,
   "metadata": {},
   "outputs": [
    {
     "name": "stdout",
     "output_type": "stream",
     "text": [
      "[12, 54, 87, 24, 48, 25, 76, 21, 67, 48]\n",
      "[144, 2916, 658503, 576, 2304, 15625, 5776, 9261, 300763, 2304]\n"
     ]
    }
   ],
   "source": [
    "names = [12,54,87,24,48,25,76,21,67,48]\n",
    "new_list =[]\n",
    "for i in names:\n",
    "    if i%2 == 0:\n",
    "        a = i*i\n",
    "        new_list.append(a)\n",
    "    else:\n",
    "        a = i*i*i\n",
    "        new_list.append(a)\n",
    "print(names)\n",
    "print(new_list)\n"
   ]
  },
  {
   "cell_type": "code",
   "execution_count": 31,
   "metadata": {},
   "outputs": [
    {
     "name": "stdout",
     "output_type": "stream",
     "text": [
      "['THERE', 'KING.', 'ARTHUR.', 'GREAT', 'KING.']\n",
      "['once', 'upon', 'a', 'time', 'was', 'a', 'his', 'name', 'was', 'he', 'was', 'a']\n"
     ]
    }
   ],
   "source": [
    "s = 'Once upon a time there was a king. His name was Arthur. He was a great king.'\n",
    "list1 = s.split()\n",
    "list2=[]\n",
    "list3=[]\n",
    "for i in list1:\n",
    "    if len(i)>4:\n",
    "        list2.append(i.upper())\n",
    "    else:\n",
    "        list3.append(i.lower())\n",
    "print(list2)\n",
    "print(list3)"
   ]
  },
  {
   "cell_type": "code",
   "execution_count": 32,
   "metadata": {},
   "outputs": [
    {
     "name": "stdout",
     "output_type": "stream",
     "text": [
      "['THERE', 'ARTHUR', 'GREAT']\n",
      "['once', 'upon', 'a', 'time', 'was', 'a', 'king', 'his', 'name', 'was', 'he', 'was', 'a', 'king']\n"
     ]
    }
   ],
   "source": [
    "s = 'Once upon a time there was a king. His name was Arthur. He was a great king.'\n",
    "temp = s.split('.')\n",
    "str = ' '.join(temp)\n",
    "list1=str.split()\n",
    "list2=[]\n",
    "list3=[]\n",
    "for i in list1:\n",
    "    if len(i)>4:\n",
    "        list2.append(i.upper())\n",
    "    else:\n",
    "        list3.append(i.lower())\n",
    "print(list2)\n",
    "print(list3)"
   ]
  },
  {
   "cell_type": "code",
   "execution_count": 41,
   "metadata": {},
   "outputs": [
    {
     "name": "stdout",
     "output_type": "stream",
     "text": [
      "[]\n",
      "['Once', 'upon', 'a', 'time', 'there', 'was', 'a', 'king', 'His', 'name', 'was', 'Arthur', 'He', 'was', 'a', 'great', 'king']\n",
      "['THERE', 'ARTHUR', 'GREAT']\n",
      "['once', 'upon', 'a', 'time', 'was', 'a', 'king', 'his', 'name', 'was', 'he', 'was', 'a', 'king']\n"
     ]
    }
   ],
   "source": [
    "s=\"Once upon a time there was a king. His name was Arthur. He was a great king.\"\n",
    "temp=[]\n",
    "list1=[]\n",
    "list2=[]\n",
    "st=s.split('.')\n",
    "for m in st:\n",
    "    sp=m.split()\n",
    "    temp.extend(sp)\n",
    "print(temp)\n",
    "for i in temp:\n",
    "    if(len(i)>4):\n",
    "        c=i.upper()\n",
    "        list1.append(c)\n",
    "    else:\n",
    "        c=i.lower()\n",
    "        list2.append(c)\n",
    "print(list1)\n",
    "print(list2)\n"
   ]
  },
  {
   "cell_type": "code",
   "execution_count": 42,
   "metadata": {},
   "outputs": [
    {
     "name": "stdout",
     "output_type": "stream",
     "text": [
      "haha\n",
      "haha\n",
      "haha\n",
      "haha\n",
      "haha\n"
     ]
    }
   ],
   "source": [
    "count = 0\n",
    "while count<5:\n",
    "    print('haha')\n",
    "    count+=1"
   ]
  },
  {
   "cell_type": "code",
   "execution_count": 44,
   "metadata": {},
   "outputs": [
    {
     "name": "stdout",
     "output_type": "stream",
     "text": [
      "['APPLE', 'MANGO', 'JACKFRUIT', 'PINEAPPLE']\n"
     ]
    }
   ],
   "source": [
    "l2 = ['apple','mango','jackfruit','pineapple']\n",
    "i = 0\n",
    "while i<len(l2):\n",
    "    l2[i]=l2[i].upper()\n",
    "    i+=1\n",
    "print(l2)"
   ]
  },
  {
   "cell_type": "code",
   "execution_count": 45,
   "metadata": {},
   "outputs": [
    {
     "name": "stdout",
     "output_type": "stream",
     "text": [
      "['APPLE', 'MANGO', 'jackfruit', 'pineapple']\n"
     ]
    }
   ],
   "source": [
    "l2 = ['apple','mango','jackfruit','pineapple']\n",
    "i = 0\n",
    "while i<len(l2):\n",
    "    if l2[i] == 'jackfruit':\n",
    "        break\n",
    "    else:\n",
    "        l2[i]=l2[i].upper()\n",
    "        i+=1\n",
    "print(l2)"
   ]
  },
  {
   "cell_type": "markdown",
   "metadata": {},
   "source": [
    "Write a program to add the first n natural number. Take the value of n as an input from the input"
   ]
  },
  {
   "cell_type": "code",
   "execution_count": 48,
   "metadata": {},
   "outputs": [
    {
     "name": "stdout",
     "output_type": "stream",
     "text": [
      "Enter a value10\n",
      "55\n"
     ]
    }
   ],
   "source": [
    "n = int(input('Enter a value'))\n",
    "i = 1\n",
    "ans = 0\n",
    "while i <= n:\n",
    "    ans = ans + i\n",
    "    i+=1\n",
    "print(ans)"
   ]
  },
  {
   "cell_type": "code",
   "execution_count": null,
   "metadata": {},
   "outputs": [],
   "source": []
  }
 ],
 "metadata": {
  "kernelspec": {
   "display_name": "Python 3",
   "language": "python",
   "name": "python3"
  },
  "language_info": {
   "codemirror_mode": {
    "name": "ipython",
    "version": 3
   },
   "file_extension": ".py",
   "mimetype": "text/x-python",
   "name": "python",
   "nbconvert_exporter": "python",
   "pygments_lexer": "ipython3",
   "version": "3.7.4"
  }
 },
 "nbformat": 4,
 "nbformat_minor": 2
}
