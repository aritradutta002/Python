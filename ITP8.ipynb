{
 "cells": [
  {
   "cell_type": "code",
   "execution_count": 2,
   "metadata": {},
   "outputs": [
    {
     "name": "stdout",
     "output_type": "stream",
     "text": [
      "Enter your guess between 1 and 100: 50\n",
      "Cold\n",
      "Enter your guess between 1 and 100: 35\n",
      "Warmer\n",
      "Enter your guess between 1 and 100: 30\n",
      "Warmer\n",
      "Enter your guess between 1 and 100: 25\n",
      "Colder\n",
      "Enter your guess between 1 and 100: 27\n",
      "Warmer\n",
      "Enter your guess between 1 and 100: 28\n",
      "Warmer\n",
      "Enter your guess between 1 and 100: 29\n",
      "Right guess and 7 guesses you take\n"
     ]
    }
   ],
   "source": [
    "import random\n",
    "\n",
    "num = random.randint(1,100)\n",
    "guesses = [0]\n",
    "while True:\n",
    "    guess = int(input('Enter your guess between 1 and 100: '))\n",
    "    if guess < 1 and guess > 100:\n",
    "        print('Out of Bound')\n",
    "        continue\n",
    "    if guess == num:\n",
    "        print (f'Right guess and {len(guesses)} guesses you take')\n",
    "        break\n",
    "    guesses.append(guess)\n",
    "    if guesses[-2]:\n",
    "        if abs(num-guess) < abs(num-guesses[-2]):\n",
    "            print('Warmer')\n",
    "        else:\n",
    "            print('Colder')\n",
    "    else:\n",
    "        if abs(num-guess) <= 10:\n",
    "            print('Warm')\n",
    "        else:\n",
    "            print('Cold')\n",
    "                "
   ]
  },
  {
   "cell_type": "code",
   "execution_count": 7,
   "metadata": {},
   "outputs": [
    {
     "name": "stdout",
     "output_type": "stream",
     "text": [
      "Enter a number: 123\n",
      "123\n"
     ]
    }
   ],
   "source": [
    "# Functions\n",
    "\n",
    "def func1(num):\n",
    "    if num<0:\n",
    "        return -num\n",
    "    else:\n",
    "        return num\n",
    "\n",
    "x = int(input(\"Enter a number: \"))\n",
    "ans = func1(x)\n",
    "print (ans)"
   ]
  },
  {
   "cell_type": "code",
   "execution_count": 13,
   "metadata": {},
   "outputs": [
    {
     "name": "stdout",
     "output_type": "stream",
     "text": [
      "Enter first values78\n",
      "Enter second values12\n",
      "12 78\n"
     ]
    }
   ],
   "source": [
    "def swap(a,b):\n",
    "    #temp = a\n",
    "    #a = b\n",
    "    #b = temp\n",
    "    \n",
    "    a = a+b\n",
    "    b = a-b\n",
    "    a = a-b\n",
    "    return a,b\n",
    "\n",
    "x = int(input(\"Enter first values\"))\n",
    "y = int(input(\"Enter second values\"))\n",
    "p,q = swap(x,y)\n",
    "print(p,q)"
   ]
  },
  {
   "cell_type": "code",
   "execution_count": 22,
   "metadata": {},
   "outputs": [
    {
     "name": "stdout",
     "output_type": "stream",
     "text": [
      "[2, 3, 5, 17, 19, 23]\n"
     ]
    }
   ],
   "source": [
    "def check_prime(num):\n",
    "    if num<=1:\n",
    "        return False\n",
    "    if num == 2 or num == 3:\n",
    "        return True\n",
    "    if num>1:\n",
    "        for i in range(2,(num//2)+1):\n",
    "            if num%i==0:\n",
    "                return False\n",
    "            else:\n",
    "                return True\n",
    "    else:\n",
    "        return False\n",
    "\n",
    "def check_list(l1):\n",
    "    l2=[]\n",
    "    for i in l1:\n",
    "        if check_prime(i):\n",
    "            l2.append(i)\n",
    "    return l2\n",
    "\n",
    "list1 = [2,3,6,5,8,10,17,19,23]\n",
    "list2 = check_list(list1)\n",
    "print(list2)"
   ]
  },
  {
   "cell_type": "code",
   "execution_count": null,
   "metadata": {},
   "outputs": [],
   "source": []
  }
 ],
 "metadata": {
  "kernelspec": {
   "display_name": "Python 3",
   "language": "python",
   "name": "python3"
  },
  "language_info": {
   "codemirror_mode": {
    "name": "ipython",
    "version": 3
   },
   "file_extension": ".py",
   "mimetype": "text/x-python",
   "name": "python",
   "nbconvert_exporter": "python",
   "pygments_lexer": "ipython3",
   "version": "3.7.4"
  }
 },
 "nbformat": 4,
 "nbformat_minor": 2
}
