{
 "cells": [
  {
   "cell_type": "code",
   "execution_count": null,
   "metadata": {},
   "outputs": [],
   "source": [
    "#Lambda: \n",
    "#1. Take three numbers from user: if the last number == 0, print the sum of the first 2 numbers else multilply them.\n",
    "#input:Enter three number separated with a space(E.g: 1 2 3)1 2 3\n",
    "#output: The result is: 2"
   ]
  },
  {
   "cell_type": "code",
   "execution_count": 7,
   "metadata": {},
   "outputs": [
    {
     "name": "stdout",
     "output_type": "stream",
     "text": [
      "Enter three number separated with a space:1 2 3\n",
      "['1', '2', '3']\n"
     ]
    },
    {
     "data": {
      "text/plain": [
       "(<function __main__.<lambda>(x, y, z)>, '1', '2', '3')"
      ]
     },
     "execution_count": 7,
     "metadata": {},
     "output_type": "execute_result"
    }
   ],
   "source": [
    "s = input('Enter three number separated with a space:')\n",
    "l = s.split()\n",
    "print(l)\n",
    "res = lambda x,y,z : float(x)+float(y) if float(z)==0 else float(x)*float(y)*float(z),l[0],l[1],l[2]\n",
    "res"
   ]
  },
  {
   "cell_type": "code",
   "execution_count": null,
   "metadata": {},
   "outputs": [],
   "source": []
  },
  {
   "cell_type": "code",
   "execution_count": null,
   "metadata": {},
   "outputs": [],
   "source": []
  },
  {
   "cell_type": "code",
   "execution_count": 22,
   "metadata": {},
   "outputs": [],
   "source": [
    "#Write a lambda function inside sorted:\n",
    "#2. Write a program that returns a list of all the even numbers first and then the odd numbers \n",
    "#from the given list in a sorted order.\n",
    "#input: [5,6,1,4,8,9,2,3]\n",
    "#output: [2, 4, 6, 8, 1, 3, 5, 9]"
   ]
  },
  {
   "cell_type": "code",
   "execution_count": null,
   "metadata": {},
   "outputs": [],
   "source": []
  },
  {
   "cell_type": "code",
   "execution_count": null,
   "metadata": {},
   "outputs": [],
   "source": []
  },
  {
   "cell_type": "code",
   "execution_count": null,
   "metadata": {},
   "outputs": [],
   "source": [
    "#3. Write a Python program to sort a list of dictionaries using Lambda.\n",
    "#Input:Original list of dictionaries :\n",
    "# [{'make': 'Nokia', 'model': 216, 'color': 'Black'}, {'make': 'Mi Max', 'model': '2', 'color': 'Gold'}, {'make': 'Samsung', 'model': 7, 'color': 'Blue'}]\n",
    "\n",
    "#Output:# Sorting the List of dictionaries :\n",
    "# [{'make': 'Nokia', 'model': 216, 'color': 'Black'}, {'make': 'Samsung', 'model': 7, 'color': 'Blue'}, {'make': 'Mi Max', 'model': '2', 'color': 'Gold'}]"
   ]
  },
  {
   "cell_type": "code",
   "execution_count": null,
   "metadata": {},
   "outputs": [],
   "source": []
  },
  {
   "cell_type": "code",
   "execution_count": null,
   "metadata": {},
   "outputs": [],
   "source": []
  },
  {
   "cell_type": "code",
   "execution_count": 37,
   "metadata": {},
   "outputs": [],
   "source": [
    "#4. Write a Python program to extract year, month, date and time using Lambda.\n",
    "# 2020-06-01 13:26:51.348008\n",
    "# 2020\n",
    "# 6\n",
    "# 1\n",
    "# 13:26:51.348008"
   ]
  },
  {
   "cell_type": "code",
   "execution_count": null,
   "metadata": {},
   "outputs": [],
   "source": []
  },
  {
   "cell_type": "code",
   "execution_count": null,
   "metadata": {},
   "outputs": [],
   "source": [
    "#5. Write a Python program to check whether a given string is number or not: using Lambda."
   ]
  },
  {
   "cell_type": "code",
   "execution_count": null,
   "metadata": {},
   "outputs": [],
   "source": []
  },
  {
   "cell_type": "code",
   "execution_count": null,
   "metadata": {},
   "outputs": [],
   "source": []
  },
  {
   "cell_type": "code",
   "execution_count": null,
   "metadata": {},
   "outputs": [],
   "source": [
    "#MAP"
   ]
  },
  {
   "cell_type": "code",
   "execution_count": 3,
   "metadata": {},
   "outputs": [],
   "source": [
    "#1. Write a Python program to take the square of each element and add elements of\n",
    "#two given lists using map and lambda.\n",
    "#Original list:\n",
    "# [1, 2, 3]\n",
    "# [4, 5, 6]\n",
    "\n",
    "# Result: after adding two list\n",
    "# [17, 29, 45]"
   ]
  },
  {
   "cell_type": "code",
   "execution_count": null,
   "metadata": {},
   "outputs": [],
   "source": []
  },
  {
   "cell_type": "code",
   "execution_count": null,
   "metadata": {},
   "outputs": [],
   "source": []
  },
  {
   "cell_type": "code",
   "execution_count": 5,
   "metadata": {},
   "outputs": [],
   "source": [
    "#2. Write a Python program to find all anagrams of a string in a given list of strings using lambda and map.\n",
    "\n",
    "#According to Wikipedia an anagram is direct word switch or word play, the result of rearranging the letters of a \n",
    "#word or phrase to produce a new word or phrase, using all the original letters exactly once; for example, the word \n",
    "#anagram can be rearranged into nag-a-ram.\n",
    "\n",
    "\n",
    "#Input:Orginal list of strings:\n",
    "# ['bcda', 'abce', 'cbda', 'cbea', 'adcb']\n",
    "\n",
    "#output:Anagrams of 'abcd' in the above string:  [True, False, True, False, True]\n",
    "\n",
    "\n",
    "#hint: use either counter/ sort"
   ]
  },
  {
   "cell_type": "code",
   "execution_count": null,
   "metadata": {},
   "outputs": [],
   "source": []
  },
  {
   "cell_type": "code",
   "execution_count": null,
   "metadata": {},
   "outputs": [],
   "source": []
  },
  {
   "cell_type": "code",
   "execution_count": null,
   "metadata": {},
   "outputs": [],
   "source": []
  },
  {
   "cell_type": "code",
   "execution_count": 6,
   "metadata": {},
   "outputs": [],
   "source": [
    "#3. Write a program to give the square of all the numbers of fibonacci series: use map,reuce and lambda\n",
    "#Enter the number5\n",
    "# outout: [0, 1, 1, 4, 9]"
   ]
  },
  {
   "cell_type": "code",
   "execution_count": null,
   "metadata": {},
   "outputs": [],
   "source": []
  },
  {
   "cell_type": "code",
   "execution_count": null,
   "metadata": {},
   "outputs": [],
   "source": []
  },
  {
   "cell_type": "code",
   "execution_count": null,
   "metadata": {},
   "outputs": [],
   "source": []
  },
  {
   "cell_type": "code",
   "execution_count": 7,
   "metadata": {},
   "outputs": [],
   "source": [
    "#4. filter the elements more than equal to 7 and cube the numbers\n",
    "#input: (1,2,3,4,5,6,7,8,9,10,11,12)\n",
    "#output: [512, 729, 1000, 1331, 1728]"
   ]
  },
  {
   "cell_type": "code",
   "execution_count": null,
   "metadata": {},
   "outputs": [],
   "source": []
  },
  {
   "cell_type": "code",
   "execution_count": null,
   "metadata": {},
   "outputs": [],
   "source": []
  },
  {
   "cell_type": "code",
   "execution_count": null,
   "metadata": {},
   "outputs": [],
   "source": []
  },
  {
   "cell_type": "code",
   "execution_count": null,
   "metadata": {},
   "outputs": [],
   "source": [
    "#FILTER"
   ]
  },
  {
   "cell_type": "code",
   "execution_count": 39,
   "metadata": {},
   "outputs": [],
   "source": [
    "#1. Write a Python program to find intersection of two given arrays using Lambda.\n",
    "#input: array_nums1 = [1, 2, 3, 5, 7, 8, 9, 10]\n",
    "#       array_nums2 = [1, 2, 4, 8, 9]\n",
    "\n",
    "#Output: Intersection of the said arrays:  [1, 2, 8, 9]\n"
   ]
  },
  {
   "cell_type": "code",
   "execution_count": 8,
   "metadata": {},
   "outputs": [],
   "source": [
    "#2. Write a Python program to count the even, odd numbers in a given array of integers using Lambda.\n",
    "#Original arrays:\n",
    "# [1, 2, 3, 5, 7, 8, 9, 10]\n",
    "\n",
    "# Number of even numbers in the above array:  3\n",
    "\n",
    "# Number of odd numbers in the above array:  5"
   ]
  },
  {
   "cell_type": "code",
   "execution_count": null,
   "metadata": {},
   "outputs": [],
   "source": []
  },
  {
   "cell_type": "code",
   "execution_count": null,
   "metadata": {},
   "outputs": [],
   "source": []
  },
  {
   "cell_type": "code",
   "execution_count": 43,
   "metadata": {},
   "outputs": [],
   "source": [
    "#3. Write a Python program to filter a given list whether the values in the list are having length of 6 using Lambda.\n",
    "#input: weekdays = ['Monday', 'Tuesday', 'Wednesday', 'Thursday', 'Friday', 'Saturday', 'Sunday']\n",
    "#output:\n",
    "# Monday\n",
    "# Friday\n",
    "# Sunday"
   ]
  },
  {
   "cell_type": "code",
   "execution_count": null,
   "metadata": {},
   "outputs": [],
   "source": []
  },
  {
   "cell_type": "code",
   "execution_count": null,
   "metadata": {},
   "outputs": [],
   "source": []
  },
  {
   "cell_type": "code",
   "execution_count": null,
   "metadata": {},
   "outputs": [],
   "source": []
  },
  {
   "cell_type": "code",
   "execution_count": null,
   "metadata": {},
   "outputs": [],
   "source": [
    "#4.Use filter to print only the names that are less than or equal to seven letters"
   ]
  },
  {
   "cell_type": "code",
   "execution_count": 47,
   "metadata": {},
   "outputs": [],
   "source": [
    "my_names = [\"olumide\", \"akinremi\", \"josiah\", \"temidayo\", \"omoseun\"]"
   ]
  },
  {
   "cell_type": "code",
   "execution_count": null,
   "metadata": {},
   "outputs": [],
   "source": []
  },
  {
   "cell_type": "code",
   "execution_count": null,
   "metadata": {},
   "outputs": [],
   "source": []
  },
  {
   "cell_type": "code",
   "execution_count": null,
   "metadata": {},
   "outputs": [],
   "source": []
  },
  {
   "cell_type": "code",
   "execution_count": 9,
   "metadata": {},
   "outputs": [],
   "source": [
    "#reduce\n",
    "#1 Find the series of fibonacci numbers using lambda function and reduce.\n",
    "\n",
    "# Enter the number5\n",
    "# [0, 1, 1, 2, 3]"
   ]
  },
  {
   "cell_type": "code",
   "execution_count": null,
   "metadata": {},
   "outputs": [],
   "source": []
  },
  {
   "cell_type": "code",
   "execution_count": null,
   "metadata": {},
   "outputs": [],
   "source": []
  },
  {
   "cell_type": "code",
   "execution_count": null,
   "metadata": {},
   "outputs": [],
   "source": []
  },
  {
   "cell_type": "code",
   "execution_count": null,
   "metadata": {},
   "outputs": [],
   "source": [
    "#2. filter the even element and double the numbers and return the product of elements\n",
    "\n",
    "#input: (1,2,3,4)\n",
    "#output: 32"
   ]
  },
  {
   "cell_type": "code",
   "execution_count": null,
   "metadata": {},
   "outputs": [],
   "source": []
  },
  {
   "cell_type": "code",
   "execution_count": null,
   "metadata": {},
   "outputs": [],
   "source": []
  },
  {
   "cell_type": "code",
   "execution_count": null,
   "metadata": {},
   "outputs": [],
   "source": []
  },
  {
   "cell_type": "code",
   "execution_count": null,
   "metadata": {},
   "outputs": [],
   "source": []
  },
  {
   "cell_type": "code",
   "execution_count": 65,
   "metadata": {},
   "outputs": [],
   "source": [
    "#3. give a replacement of ''.join(L) using reduce:\n",
    "#input: L = ['Testing ', 'shows ', 'the ', 'presence', ', ','not ', 'the ', 'absence ', 'of ', 'bugs']\n",
    "#output: 'Testing shows the presence, not the absence of bugs'"
   ]
  },
  {
   "cell_type": "code",
   "execution_count": null,
   "metadata": {},
   "outputs": [],
   "source": [
    "#4. Use reduce to return the largest length word from the list\n",
    "from functools import reduce\n",
    "words = [\"mary\", \"had\", \"a\", \"little\", \"lamb\"]\n",
    "#output: little"
   ]
  },
  {
   "cell_type": "code",
   "execution_count": null,
   "metadata": {},
   "outputs": [],
   "source": []
  },
  {
   "cell_type": "code",
   "execution_count": null,
   "metadata": {},
   "outputs": [],
   "source": []
  },
  {
   "cell_type": "code",
   "execution_count": 49,
   "metadata": {},
   "outputs": [],
   "source": [
    "#List Comprehension"
   ]
  },
  {
   "cell_type": "code",
   "execution_count": 50,
   "metadata": {},
   "outputs": [],
   "source": [
    "#1. Write a Python program to rearrange positive and negative numbers in a given array using Lambda."
   ]
  },
  {
   "cell_type": "code",
   "execution_count": 51,
   "metadata": {},
   "outputs": [],
   "source": [
    "#input: array_nums = [-1, 2, -3, 5, 7, 8, 9, -10]\n",
    "#output: [-1, -3, -10, 2, 5, 7, 8, 9]"
   ]
  },
  {
   "cell_type": "code",
   "execution_count": null,
   "metadata": {},
   "outputs": [],
   "source": []
  },
  {
   "cell_type": "code",
   "execution_count": null,
   "metadata": {},
   "outputs": [],
   "source": []
  },
  {
   "cell_type": "code",
   "execution_count": null,
   "metadata": {},
   "outputs": [],
   "source": []
  },
  {
   "cell_type": "code",
   "execution_count": null,
   "metadata": {},
   "outputs": [],
   "source": [
    "#2. write a list comprehension that returns 'yes' for all the numbers less that 1, \n",
    "#'no' for all the number greater that 1 and 'idle' for all equal to 1"
   ]
  },
  {
   "cell_type": "code",
   "execution_count": null,
   "metadata": {},
   "outputs": [],
   "source": [
    "l = [-3,-2,-1,0,1, 2, 3, 4, 5]\n",
    "\n",
    "#ouput: ['yes', 'yes', 'yes', 'yes', 'idle', 'no', 'no', 'no', 'no']\n"
   ]
  },
  {
   "cell_type": "code",
   "execution_count": null,
   "metadata": {},
   "outputs": [],
   "source": []
  },
  {
   "cell_type": "code",
   "execution_count": null,
   "metadata": {},
   "outputs": [],
   "source": []
  },
  {
   "cell_type": "code",
   "execution_count": 73,
   "metadata": {},
   "outputs": [],
   "source": [
    "# 3. write a list comprehension to make a matrix\n",
    "#output: matrix = [[0, 1, 2, 3, 4],\n",
    "#                  [0, 1, 2, 3, 4],\n",
    "#                  [0, 1, 2, 3, 4],\n",
    "#                  [0, 1, 2, 3, 4],\n",
    "#                  [0, 1, 2, 3, 4]]"
   ]
  },
  {
   "cell_type": "code",
   "execution_count": null,
   "metadata": {},
   "outputs": [],
   "source": []
  },
  {
   "cell_type": "code",
   "execution_count": null,
   "metadata": {},
   "outputs": [],
   "source": []
  },
  {
   "cell_type": "code",
   "execution_count": null,
   "metadata": {},
   "outputs": [],
   "source": []
  },
  {
   "cell_type": "code",
   "execution_count": 75,
   "metadata": {},
   "outputs": [],
   "source": [
    "#4. Suppose I want to flatten a given 2-D list and only include those strings whose lengths are less than 6:\n",
    "#input: planets = [[‘Mercury’, ‘Venus’, ‘Earth’], [‘Mars’, ‘Jupiter’, ‘Saturn’], [‘Uranus’, ‘Neptune’, ‘Pluto’]]\n",
    "#output: Expected Output: flatten_planets = [‘Venus’, ‘Earth’, ‘Mars’, ‘Pluto’]"
   ]
  },
  {
   "cell_type": "code",
   "execution_count": 80,
   "metadata": {},
   "outputs": [
    {
     "name": "stdout",
     "output_type": "stream",
     "text": [
      "['Venus', 'Earth', 'Mars', 'Pluto']\n"
     ]
    }
   ],
   "source": [
    "planets = [['Mercury', 'Venus', 'Earth'], ['Mars', 'Jupiter', 'Saturn'], ['Uranus', 'Neptune', 'Pluto']] \n",
    "  \n",
    "flatten_planets = [] \n",
    "for sublist in planets: \n",
    "    for planet in sublist: \n",
    "          \n",
    "        if len(planet) < 6: \n",
    "            flatten_planets.append(planet) \n",
    "print(flatten_planets) "
   ]
  },
  {
   "cell_type": "code",
   "execution_count": 10,
   "metadata": {},
   "outputs": [],
   "source": [
    "#give the above code using List comprehension"
   ]
  },
  {
   "cell_type": "code",
   "execution_count": null,
   "metadata": {},
   "outputs": [],
   "source": []
  },
  {
   "cell_type": "code",
   "execution_count": null,
   "metadata": {},
   "outputs": [],
   "source": []
  },
  {
   "cell_type": "code",
   "execution_count": null,
   "metadata": {},
   "outputs": [],
   "source": []
  }
 ],
 "metadata": {
  "kernelspec": {
   "display_name": "Python 3",
   "language": "python",
   "name": "python3"
  },
  "language_info": {
   "codemirror_mode": {
    "name": "ipython",
    "version": 3
   },
   "file_extension": ".py",
   "mimetype": "text/x-python",
   "name": "python",
   "nbconvert_exporter": "python",
   "pygments_lexer": "ipython3",
   "version": "3.7.4"
  }
 },
 "nbformat": 4,
 "nbformat_minor": 2
}
