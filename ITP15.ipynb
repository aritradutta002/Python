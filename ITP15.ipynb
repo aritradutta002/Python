{
 "cells": [
  {
   "cell_type": "code",
   "execution_count": 1,
   "metadata": {},
   "outputs": [
    {
     "name": "stdout",
     "output_type": "stream",
     "text": [
      "{'Dept1': 11000.0, 'Dept2': 16500.0, 'Dept3': 22000.0}\n"
     ]
    }
   ],
   "source": [
    "my_dept = {'Dept1':10000,'Dept2':15000,'Dept3':20000}\n",
    "for k in my_dept:\n",
    "    my_dept[k] *= 1.1\n",
    "print(my_dept)"
   ]
  },
  {
   "cell_type": "code",
   "execution_count": 2,
   "metadata": {},
   "outputs": [
    {
     "name": "stdout",
     "output_type": "stream",
     "text": [
      "10000 India\n",
      "10000 UK\n",
      "10000 France\n",
      "10000 US\n",
      "10000 Poland\n",
      "20000 India\n",
      "20000 UK\n",
      "20000 France\n",
      "20000 US\n",
      "20000 Poland\n",
      "30000 India\n",
      "30000 UK\n",
      "30000 France\n",
      "30000 US\n",
      "30000 Poland\n",
      "40000 India\n",
      "40000 UK\n",
      "40000 France\n",
      "40000 US\n",
      "40000 Poland\n",
      "50000 India\n",
      "50000 UK\n",
      "50000 France\n",
      "50000 US\n",
      "50000 Poland\n"
     ]
    }
   ],
   "source": [
    "list1 = [10000,20000,30000,40000,50000]\n",
    "list2 = ['India','UK','France','US','Poland']\n",
    "for i in list1:\n",
    "    for j in list2:\n",
    "        print(i,j)"
   ]
  },
  {
   "cell_type": "code",
   "execution_count": 3,
   "metadata": {},
   "outputs": [
    {
     "name": "stdout",
     "output_type": "stream",
     "text": [
      "5 X 1 = 5\n",
      "5 X 2 = 10\n",
      "5 X 3 = 15\n",
      "5 X 4 = 20\n",
      "5 X 5 = 25\n",
      "5 X 6 = 30\n",
      "5 X 7 = 35\n",
      "5 X 8 = 40\n",
      "5 X 9 = 45\n",
      "5 X 10 = 50\n"
     ]
    }
   ],
   "source": [
    "n = 5\n",
    "for i in range(1,11):\n",
    "    print(n,'X',i,'=',n*i)"
   ]
  },
  {
   "cell_type": "code",
   "execution_count": null,
   "metadata": {},
   "outputs": [],
   "source": []
  }
 ],
 "metadata": {
  "kernelspec": {
   "display_name": "Python 3",
   "language": "python",
   "name": "python3"
  },
  "language_info": {
   "codemirror_mode": {
    "name": "ipython",
    "version": 3
   },
   "file_extension": ".py",
   "mimetype": "text/x-python",
   "name": "python",
   "nbconvert_exporter": "python",
   "pygments_lexer": "ipython3",
   "version": "3.7.4"
  }
 },
 "nbformat": 4,
 "nbformat_minor": 2
}
