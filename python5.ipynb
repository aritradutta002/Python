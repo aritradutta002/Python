{
 "cells": [
  {
   "cell_type": "code",
   "execution_count": 22,
   "metadata": {},
   "outputs": [
    {
     "data": {
      "text/plain": [
       "False"
      ]
     },
     "execution_count": 22,
     "metadata": {},
     "output_type": "execute_result"
    }
   ],
   "source": [
    "is_even = lambda x:x%2==0\n",
    "is_even(5)"
   ]
  },
  {
   "cell_type": "code",
   "execution_count": 5,
   "metadata": {},
   "outputs": [
    {
     "data": {
      "text/plain": [
       "[3.2, 4.800000000000001, 6.4, 8.0, 9.600000000000001, 11.200000000000001]"
      ]
     },
     "execution_count": 5,
     "metadata": {},
     "output_type": "execute_result"
    }
   ],
   "source": [
    "miles = [2,3,4,5,6,7]\n",
    "kms = list(map(lambda x:x*1.6,miles))\n",
    "kms"
   ]
  },
  {
   "cell_type": "code",
   "execution_count": 6,
   "metadata": {},
   "outputs": [
    {
     "data": {
      "text/plain": [
       "[60, 120, 180, 156, 432]"
      ]
     },
     "execution_count": 6,
     "metadata": {},
     "output_type": "execute_result"
    }
   ],
   "source": [
    "feet = [5,10,15,13,36]\n",
    "list(map(lambda x:x*12,feet))\n"
   ]
  },
  {
   "cell_type": "code",
   "execution_count": 7,
   "metadata": {},
   "outputs": [
    {
     "data": {
      "text/plain": [
       "[110, 140, 160, 180, 164]"
      ]
     },
     "execution_count": 7,
     "metadata": {},
     "output_type": "execute_result"
    }
   ],
   "source": [
    "smarks = [60,70,80,90,95]\n",
    "mmarks = [50,70,80,90,69]\n",
    "list(map(lambda x,y:x+y,smarks,mmarks))"
   ]
  },
  {
   "cell_type": "code",
   "execution_count": 22,
   "metadata": {},
   "outputs": [
    {
     "data": {
      "text/plain": [
       "[2, 5, 89]"
      ]
     },
     "execution_count": 22,
     "metadata": {},
     "output_type": "execute_result"
    }
   ],
   "source": [
    "import math\n",
    "def isPrime(n):\n",
    "    flag=True\n",
    "    i=2\n",
    "    if n==1:\n",
    "        return False\n",
    "    while(i<math.sqrt(n)):\n",
    "        if n%i==0:\n",
    "            flag=False\n",
    "        i+=1\n",
    "    return flag\n",
    "list(filter(isPrime,[2,5,6,89,87,45]))"
   ]
  },
  {
   "cell_type": "code",
   "execution_count": 18,
   "metadata": {},
   "outputs": [
    {
     "data": {
      "text/plain": [
       "[10, 20, 40]"
      ]
     },
     "execution_count": 18,
     "metadata": {},
     "output_type": "execute_result"
    }
   ],
   "source": [
    "list(filter(lambda x : x%2==0 and x%5==0,[3,5,6,7,9,10,20,40]))"
   ]
  },
  {
   "cell_type": "code",
   "execution_count": 26,
   "metadata": {},
   "outputs": [
    {
     "data": {
      "text/plain": [
       "105"
      ]
     },
     "execution_count": 26,
     "metadata": {},
     "output_type": "execute_result"
    }
   ],
   "source": [
    "from functools import reduce\n",
    "reduce(lambda x,y:x+y,[3,4,5,6,78,9])"
   ]
  },
  {
   "cell_type": "code",
   "execution_count": 29,
   "metadata": {},
   "outputs": [
    {
     "data": {
      "text/plain": [
       "[3, 7, 12, 18, 96, 105]"
      ]
     },
     "execution_count": 29,
     "metadata": {},
     "output_type": "execute_result"
    }
   ],
   "source": [
    "from itertools import accumulate\n",
    "list(accumulate([3,4,5,6,78,9],lambda x,y:x+y))"
   ]
  },
  {
   "cell_type": "code",
   "execution_count": null,
   "metadata": {},
   "outputs": [],
   "source": [
    "acnum = Create_account(acname,idnum)\n",
    "balance = doCredit(acnum,amount)\n",
    "balance = doDebit(acnum,amount)\n",
    "balance = getBalance(acnum)\n",
    "details = getDetails(acnum)"
   ]
  },
  {
   "cell_type": "markdown",
   "metadata": {},
   "source": [
    "a.You are a whole sale dealers of groceries. You bought x kgs of rice at the price of 60rs per kg, y kgs of wheat ar the rate of 40rs/kg that is your buying price. You sell the rice at a 10% margin and wheat at 8% margin. \n",
    "Take x and y as input (varying for every month), calculate the profit made in given month.\n",
    "Take month name as input.Generate a report to show buying price ,comodity quantities bought, selling price, total profit for the month.\n",
    "\n",
    "b. Assuming 60 % of total qty of rice was sold and 50% of total qty of wheat was sold.\n"
   ]
  },
  {
   "cell_type": "code",
   "execution_count": 2,
   "metadata": {},
   "outputs": [
    {
     "name": "stdout",
     "output_type": "stream",
     "text": [
      "Enter Month:January\n",
      "Enter how many kgs rice you want:10\n",
      "Enter how many kgs wheat you want:20\n",
      "Month: January\n",
      "Buying Price of Rice: 600.0\n",
      "Quantity Bought: 10.0\n",
      "Selling Price of Rice: 660.0\n",
      "Profit for Rice: 60.0\n",
      "Buying Price of Wheat: 800.0\n",
      "Quantity Bought: 20.0\n",
      "Selling Price of Wheat: 864.0\n",
      "Profit for Wheat: 64.0\n",
      "Total Profit: 124.0\n"
     ]
    }
   ],
   "source": [
    "p = input('Enter Month:')\n",
    "m = float(input('Enter how many kgs rice you want:'))\n",
    "n = float(input('Enter how many kgs wheat you want:'))\n",
    "cpr = 60 * m\n",
    "cpw = 40 * n\n",
    "spr = 60 * m * 1.1\n",
    "spw = 40 * n * 1.08\n",
    "tp = (spr-cpr) + (spw-cpw)\n",
    "print('Month:',p)\n",
    "print('Buying Price of Rice:',cpr)\n",
    "print('Quantity Bought:',m)\n",
    "print('Selling Price of Rice:',spr)\n",
    "print('Profit for Rice:',(spr-cpr))\n",
    "print('Buying Price of Wheat:',cpw)\n",
    "print('Quantity Bought:',n)\n",
    "print('Selling Price of Wheat:',spw)\n",
    "print('Profit for Wheat:',(spw-cpw))\n",
    "print('Total Profit:',tp)"
   ]
  },
  {
   "cell_type": "markdown",
   "metadata": {},
   "source": [
    "Question 2:\n",
    "You plan to buy a plot in one of the happening areas in city. The price per sq.foot cost in the area is Rs.8000.  A registration fee of 100rs per Sqft is applied on it. If you plan to buy a 1600sqft plot find the total cost incurred."
   ]
  },
  {
   "cell_type": "code",
   "execution_count": 10,
   "metadata": {},
   "outputs": [
    {
     "name": "stdout",
     "output_type": "stream",
     "text": [
      "Total Cost 12960000\n"
     ]
    }
   ],
   "source": [
    "print('Total Cost',(8000*1600)+(1600*100))"
   ]
  },
  {
   "cell_type": "markdown",
   "metadata": {},
   "source": [
    "Question 3:\n",
    "Write a program to create a user defined funciton. takes full name of a person as input. Creates an initial of the person using the first lettes of first name middle name and last name and returns as an output. \n"
   ]
  },
  {
   "cell_type": "code",
   "execution_count": 7,
   "metadata": {},
   "outputs": [
    {
     "name": "stdout",
     "output_type": "stream",
     "text": [
      "Enter Name:arnab dutta\n",
      "A.D.\n"
     ]
    }
   ],
   "source": [
    "def initial(name):\n",
    "    l = name.split()\n",
    "    s = ''\n",
    "    for i in l:\n",
    "        s += i[0].upper()+'.'\n",
    "    return s\n",
    "n = input('Enter Name:')\n",
    "res = initial(n)\n",
    "print(res)"
   ]
  },
  {
   "cell_type": "markdown",
   "metadata": {},
   "source": [
    "Question 4:\n",
    "Write a program to take 2 numbers -lower limit and upper limit as input. Create a  function to generate the numbers divisible by 3 that exist between these limits.\n"
   ]
  },
  {
   "cell_type": "code",
   "execution_count": 8,
   "metadata": {},
   "outputs": [
    {
     "name": "stdout",
     "output_type": "stream",
     "text": [
      "Enter lower limit:1\n",
      "Enter upper limit:30\n",
      "[3, 6, 9, 12, 15, 18, 21, 24, 27, 30]\n"
     ]
    }
   ],
   "source": [
    "def divby3(m,n):\n",
    "    l = []\n",
    "    for i in range(m,n+1):\n",
    "        if i % 3 == 0:\n",
    "            l.append(i)\n",
    "    return l\n",
    "l = int(input('Enter lower limit:'))\n",
    "u = int(input('Enter upper limit:'))\n",
    "nums = divby3(l,u)\n",
    "print(nums)"
   ]
  },
  {
   "cell_type": "markdown",
   "metadata": {},
   "source": [
    "Question 5:\n",
    "Write a user defined function to find the factorial of the given number."
   ]
  },
  {
   "cell_type": "code",
   "execution_count": 12,
   "metadata": {},
   "outputs": [
    {
     "name": "stdout",
     "output_type": "stream",
     "text": [
      "120\n"
     ]
    }
   ],
   "source": [
    "def fact(n):\n",
    "    res = 1\n",
    "    if n ==1 or n == 0:\n",
    "        res = 1\n",
    "    else:\n",
    "        for i in range(2,n+1):\n",
    "            res *= i\n",
    "    return res\n",
    "n = fact(5)\n",
    "print(n)"
   ]
  },
  {
   "cell_type": "code",
   "execution_count": 16,
   "metadata": {},
   "outputs": [
    {
     "name": "stdout",
     "output_type": "stream",
     "text": [
      "False\n"
     ]
    }
   ],
   "source": [
    "def leap_year(year):\n",
    "    return year%400 == 0 or (year%100 != 0 and year%4==0)\n",
    "print(leap_year(2013))"
   ]
  },
  {
   "cell_type": "code",
   "execution_count": 18,
   "metadata": {},
   "outputs": [
    {
     "name": "stdout",
     "output_type": "stream",
     "text": [
      "[10, 5, 20, 5, 30, 5, 40, 5, 50, 5]\n"
     ]
    }
   ],
   "source": [
    "list1 = [10,15,20,25,30,35,40,45,50,55]\n",
    "for i in range(1,len(list1),2):\n",
    "    list1[i] = 5\n",
    "print(list1)"
   ]
  },
  {
   "cell_type": "markdown",
   "metadata": {},
   "source": [
    "Question 8: \n",
    "\n",
    "An airplane booking agency has a list of cities where the flight services are provided from originating city (Bangalore). \n",
    "\n",
    "\n",
    "Pune     2500\n",
    "Mumbai   3000\n",
    "Delhi    5000\n",
    "Kolkota  5000\n",
    "Chennai  1800\n",
    "Hyderabad 2200\n",
    "Ahmedabad 4000\n",
    "Lucknow   3500\n",
    ".\n",
    ".\n",
    ".\n",
    "\n",
    "Create a function to take input from user to the destination place no of travellers and accordingly calculate the total fare required for the journey booking.\n"
   ]
  },
  {
   "cell_type": "code",
   "execution_count": 20,
   "metadata": {},
   "outputs": [
    {
     "name": "stdout",
     "output_type": "stream",
     "text": [
      "Enter Destination place:kolkata\n",
      "Enter no. of passengers:10\n",
      "50000\n"
     ]
    }
   ],
   "source": [
    "def fare(dest,n):\n",
    "    dict1 = {'Pune':2500,'Mumbai':3000,'Delhi':5000,'Kolkata':5000,'Chennai':1800,'Hyderabad':2200,'Ahmedabad':4000,'Lucknow':3500}\n",
    "    return dict1[dest]*n\n",
    "dest = input(\"Enter Destination place:\")\n",
    "n = int(input(\"Enter no. of passengers:\"))\n",
    "print(fare(dest.capitalize(),n))"
   ]
  },
  {
   "cell_type": "code",
   "execution_count": null,
   "metadata": {},
   "outputs": [],
   "source": [
    "dic = {'John':45,'Shelly':65,'Marry':35}\n",
    "list(map(lambda x : x[i]*1.622"
   ]
  }
 ],
 "metadata": {
  "kernelspec": {
   "display_name": "Python 3",
   "language": "python",
   "name": "python3"
  },
  "language_info": {
   "codemirror_mode": {
    "name": "ipython",
    "version": 3
   },
   "file_extension": ".py",
   "mimetype": "text/x-python",
   "name": "python",
   "nbconvert_exporter": "python",
   "pygments_lexer": "ipython3",
   "version": "3.7.4"
  }
 },
 "nbformat": 4,
 "nbformat_minor": 2
}
