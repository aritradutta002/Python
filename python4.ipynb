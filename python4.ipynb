{
 "cells": [
  {
   "cell_type": "code",
   "execution_count": 3,
   "metadata": {},
   "outputs": [
    {
     "data": {
      "text/plain": [
       "[1764, 91125, 2304]"
      ]
     },
     "execution_count": 3,
     "metadata": {},
     "output_type": "execute_result"
    }
   ],
   "source": [
    "[n**2 if n%2==0 else n**3 for n in range(40,51) if n%3==0]"
   ]
  },
  {
   "cell_type": "code",
   "execution_count": 6,
   "metadata": {},
   "outputs": [
    {
     "name": "stdout",
     "output_type": "stream",
     "text": [
      "3x1=3\n",
      "3x2=6\n",
      "3x3=9\n",
      "3x4=12\n",
      "3x5=15\n",
      "3x6=18\n",
      "3x7=21\n",
      "3x8=24\n",
      "3x9=27\n",
      "3x10=30\n",
      "4x1=4\n",
      "4x2=8\n",
      "4x3=12\n",
      "4x4=16\n",
      "4x5=20\n",
      "4x6=24\n",
      "4x7=28\n",
      "4x8=32\n",
      "4x9=36\n",
      "4x10=40\n",
      "5x1=5\n",
      "5x2=10\n",
      "5x3=15\n",
      "5x4=20\n",
      "5x5=25\n",
      "5x6=30\n",
      "5x7=35\n",
      "5x8=40\n",
      "5x9=45\n",
      "5x10=50\n"
     ]
    }
   ],
   "source": [
    "list1 = [str(i)+'x'+str(j)+'='+str(i*j) for i in range(3,6) for j in range(1,11)]\n",
    "for i in list1:\n",
    "    print(i)"
   ]
  },
  {
   "cell_type": "code",
   "execution_count": 13,
   "metadata": {},
   "outputs": [
    {
     "data": {
      "text/plain": [
       "False"
      ]
     },
     "execution_count": 13,
     "metadata": {},
     "output_type": "execute_result"
    }
   ],
   "source": [
    "def isTrouble(hour,talking):\n",
    "    return talking and (hour<7 or hour>20)\n",
    "x = isTrouble(8,True)\n",
    "x"
   ]
  },
  {
   "cell_type": "code",
   "execution_count": 21,
   "metadata": {},
   "outputs": [
    {
     "name": "stdout",
     "output_type": "stream",
     "text": [
      "Pass Marks and need 11 marks to get Disntinction\n"
     ]
    }
   ],
   "source": [
    "def marks(marks):\n",
    "    if marks>=70:\n",
    "        print('Distinction and you get highest grade')\n",
    "    elif 70>marks>=60:\n",
    "        print('First Class and need {0} marks to get Disntinction'.format(70-marks))\n",
    "    elif 60>marks>=50:\n",
    "        print('Second class and need {0} marks to get Disntinction'.format(60-marks))\n",
    "    elif 50>marks>=35:\n",
    "        print('Pass Marks and need {0} marks to get Disntinction'.format(50-marks))\n",
    "    else:\n",
    "        print('Fail and need {0} marks to get Disntinction'.format(35-marks))\n",
    "marks(39)"
   ]
  },
  {
   "cell_type": "code",
   "execution_count": 25,
   "metadata": {},
   "outputs": [
    {
     "name": "stdout",
     "output_type": "stream",
     "text": [
      "6 3\n"
     ]
    }
   ],
   "source": [
    "def string(s):\n",
    "    count = 0\n",
    "    count1=0\n",
    "    for i in s:\n",
    "        if i.isalpha():\n",
    "            count+=1\n",
    "        if i.isdigit():\n",
    "            count1+=1\n",
    "    return count,count1\n",
    "a,d = string('Aritra123')\n",
    "print(a,d)"
   ]
  },
  {
   "cell_type": "code",
   "execution_count": 28,
   "metadata": {},
   "outputs": [
    {
     "name": "stdout",
     "output_type": "stream",
     "text": [
      "blueeulb\n"
     ]
    }
   ],
   "source": [
    "def stringmirror(s):\n",
    "    return s+s[::-1]\n",
    "print(stringmirror('blue'))"
   ]
  },
  {
   "cell_type": "code",
   "execution_count": 31,
   "metadata": {},
   "outputs": [
    {
     "name": "stdout",
     "output_type": "stream",
     "text": [
      "Enter item to the list amd write \"endshopping\" to complete the list:pen\n",
      "Enter item to the list amd write \"endshopping\" to complete the list:oencile\n",
      "Enter item to the list amd write \"endshopping\" to complete the list:book\n",
      "Enter item to the list amd write \"endshopping\" to complete the list:endshopping\n",
      "pen\n",
      "oencile\n",
      "book\n"
     ]
    }
   ],
   "source": [
    "def shoppinglist():\n",
    "    list1 = []\n",
    "    while(1):\n",
    "        s = input('Enter item to the list amd write \"endshopping\" to complete the list:')\n",
    "        if s == 'endshopping':\n",
    "            break\n",
    "        else:\n",
    "            list1.append(s)\n",
    "    return list1\n",
    "l = shoppinglist()\n",
    "for i in l:\n",
    "    print(i)"
   ]
  },
  {
   "cell_type": "code",
   "execution_count": 38,
   "metadata": {},
   "outputs": [
    {
     "data": {
      "text/plain": [
       "{'H': 1, 'e': 1, 'l': 3, 'o': 2, 'w': 1, 'r': 1, 'd': 1}"
      ]
     },
     "execution_count": 38,
     "metadata": {},
     "output_type": "execute_result"
    }
   ],
   "source": [
    "def myfunc(s):\n",
    "    mydict = {}\n",
    "    for i in s:\n",
    "        mydict[i] = mydict.get(i,0)+1\n",
    "    return mydict\n",
    "dict1 = myfunc('Helloworld')\n",
    "dict1"
   ]
  },
  {
   "cell_type": "code",
   "execution_count": 42,
   "metadata": {},
   "outputs": [
    {
     "data": {
      "text/plain": [
       "['Hello', 'first', 'hello', 'program', 'world']"
      ]
     },
     "execution_count": 42,
     "metadata": {},
     "output_type": "execute_result"
    }
   ],
   "source": [
    "def sorted_word(s):\n",
    "    sorted_lst = sorted(set(s.split()))\n",
    "    return sorted_lst\n",
    "string = 'Hello world first program hello program'\n",
    "list1 = sorted_word(string)\n",
    "list1"
   ]
  },
  {
   "cell_type": "code",
   "execution_count": 3,
   "metadata": {},
   "outputs": [
    {
     "name": "stdout",
     "output_type": "stream",
     "text": [
      "Enter the name of Player1:Aritra\n",
      "Enter the name of Player2:Arnab\n",
      "Enter how many times want to play:3\n",
      "\n",
      "Aritra played SCISSOR\n",
      "Arnab played ROCK\n",
      "Arnab wins this round\n",
      "\n",
      "The score is Aritra - 0 , Arnab - 1\n",
      "\n",
      "Aritra played ROCK\n",
      "Arnab played PAPER\n",
      "Arnab wins this round\n",
      "\n",
      "The score is Aritra - 0 , Arnab - 2\n",
      "\n",
      "Aritra played ROCK\n",
      "Arnab played SCISSOR\n",
      "Aritra wins this round\n",
      "\n",
      "The score is Aritra - 1 , Arnab - 2\n",
      "\n",
      "\n",
      "Arnab wins the game\n"
     ]
    }
   ],
   "source": [
    "import random\n",
    "def my_game(player1,player2,n):\n",
    "    mydict = {0:'ROCK',1:'PAPER',2:'SCISSOR'}\n",
    "    count1=0\n",
    "    count2=0\n",
    "    while n>0:\n",
    "        value1 = random.randint(0,2)\n",
    "        value2 = random.randint(0,2)\n",
    "        print('\\n{0} played {1}'.format(player1,mydict[value1]))\n",
    "        print('{0} played {1}'.format(player2,mydict[value2]))\n",
    "        if value1==0 and value2==1:\n",
    "            print('{0} wins this round\\n'.format(player2))\n",
    "            count2+=1\n",
    "        elif value1==0 and value2==2:\n",
    "            print('{0} wins this round\\n'.format(player1))\n",
    "            count1+=1\n",
    "        elif value1==1 and value2==2:\n",
    "            print('{0} wins this round\\n'.format(player2))\n",
    "            count2+=1\n",
    "        elif value1==1 and value2==0:\n",
    "            print('{0} wins this round\\n'.format(player1))\n",
    "            count1+=1\n",
    "        elif value1==2 and value2==0:\n",
    "            print('{0} wins this round\\n'.format(player2))\n",
    "            count2+=1\n",
    "        elif value1==2 and value2==1:\n",
    "            print('{0} wins this round\\n'.format(player1))\n",
    "            count1+=1\n",
    "        else:\n",
    "            print('This round is tied\\n')\n",
    "        print('The score is {} - {} , {} - {}'.format(player1,count1,player2,count2))\n",
    "        n-=1\n",
    "    if count1>count2:\n",
    "        return 1\n",
    "    elif count1<count2:\n",
    "        return 2\n",
    "    else:\n",
    "        return 3\n",
    "player1 = input('Enter the name of Player1:')\n",
    "player2 = input('Enter the name of Player2:')\n",
    "n = int(input('Enter how many times want to play:'))\n",
    "result = my_game(player1,player2,n)\n",
    "if result==1:\n",
    "    print('\\n\\n{} wins the game'.format(player1))\n",
    "elif result == 2:\n",
    "    print('\\n\\n{} wins the game'.format(player2))\n",
    "elif result == 3:\n",
    "    print('\\\\nThe game is tied')"
   ]
  },
  {
   "cell_type": "code",
   "execution_count": null,
   "metadata": {},
   "outputs": [],
   "source": []
  },
  {
   "cell_type": "code",
   "execution_count": null,
   "metadata": {},
   "outputs": [],
   "source": []
  }
 ],
 "metadata": {
  "kernelspec": {
   "display_name": "Python 3",
   "language": "python",
   "name": "python3"
  },
  "language_info": {
   "codemirror_mode": {
    "name": "ipython",
    "version": 3
   },
   "file_extension": ".py",
   "mimetype": "text/x-python",
   "name": "python",
   "nbconvert_exporter": "python",
   "pygments_lexer": "ipython3",
   "version": "3.7.4"
  }
 },
 "nbformat": 4,
 "nbformat_minor": 2
}
